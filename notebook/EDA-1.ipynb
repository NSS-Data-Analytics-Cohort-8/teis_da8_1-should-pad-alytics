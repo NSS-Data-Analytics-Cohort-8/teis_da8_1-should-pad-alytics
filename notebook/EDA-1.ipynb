{
 "cells": [
  {
   "cell_type": "code",
   "execution_count": 46,
   "metadata": {},
   "outputs": [],
   "source": [
    "import pandas as pd\n",
    "import matplotlib.pyplot as plt\n",
    "import seaborn as sns\n",
    "import numpy as np\n",
    "import calendar\n",
    "from datetime import timedelta\n",
    "%matplotlib inline\n"
   ]
  },
  {
   "cell_type": "code",
   "execution_count": 41,
   "metadata": {},
   "outputs": [
    {
     "data": {
      "text/html": [
       "<div>\n",
       "<style scoped>\n",
       "    .dataframe tbody tr th:only-of-type {\n",
       "        vertical-align: middle;\n",
       "    }\n",
       "\n",
       "    .dataframe tbody tr th {\n",
       "        vertical-align: top;\n",
       "    }\n",
       "\n",
       "    .dataframe thead th {\n",
       "        text-align: right;\n",
       "    }\n",
       "</style>\n",
       "<table border=\"1\" class=\"dataframe\">\n",
       "  <thead>\n",
       "    <tr style=\"text-align: right;\">\n",
       "      <th></th>\n",
       "      <th>CHILD_ID</th>\n",
       "      <th>SERVICE_DATE</th>\n",
       "      <th>START_TIME</th>\n",
       "      <th>END_TIME</th>\n",
       "      <th>SERVICE_SETTING</th>\n",
       "      <th>SERVICE DELIVERY</th>\n",
       "      <th>ADD_USER</th>\n",
       "      <th>ADD_DATE</th>\n",
       "      <th>IFSP Teaming ID name</th>\n",
       "      <th>Agency Name</th>\n",
       "      <th>Agency Type</th>\n",
       "      <th>Service Name</th>\n",
       "    </tr>\n",
       "  </thead>\n",
       "  <tbody>\n",
       "    <tr>\n",
       "      <th>0</th>\n",
       "      <td>457136.0</td>\n",
       "      <td>2022-01-21</td>\n",
       "      <td>09:30:00</td>\n",
       "      <td>10:30:00</td>\n",
       "      <td>Community-based</td>\n",
       "      <td>Service Delivered</td>\n",
       "      <td>LEECAROL1</td>\n",
       "      <td>2022-01-21 17:54:45</td>\n",
       "      <td>IEP Meeting</td>\n",
       "      <td>Siskin Children's Institute (EIRA)</td>\n",
       "      <td>EIRA</td>\n",
       "      <td>Dev. Therapy Prof - Home/Community</td>\n",
       "    </tr>\n",
       "    <tr>\n",
       "      <th>1</th>\n",
       "      <td>457136.0</td>\n",
       "      <td>2022-02-15</td>\n",
       "      <td>14:00:00</td>\n",
       "      <td>15:00:00</td>\n",
       "      <td>Community-based</td>\n",
       "      <td>Service Delivered</td>\n",
       "      <td>LEECAROL1</td>\n",
       "      <td>2022-02-16 05:29:12</td>\n",
       "      <td>Co-Visit</td>\n",
       "      <td>Siskin Children's Institute (EIRA)</td>\n",
       "      <td>EIRA</td>\n",
       "      <td>Dev. Therapy Prof - Home/Community</td>\n",
       "    </tr>\n",
       "    <tr>\n",
       "      <th>2</th>\n",
       "      <td>457585.0</td>\n",
       "      <td>2022-01-24</td>\n",
       "      <td>08:30:00</td>\n",
       "      <td>09:30:00</td>\n",
       "      <td>Telehealth</td>\n",
       "      <td>Service Delivered</td>\n",
       "      <td>MILLARDCATHERINE</td>\n",
       "      <td>2022-01-24 14:18:29</td>\n",
       "      <td>IEP Meeting</td>\n",
       "      <td>Siskin Children's Institute (EIRA)</td>\n",
       "      <td>EIRA</td>\n",
       "      <td>Dev. Therapy Prof - Home/Community</td>\n",
       "    </tr>\n",
       "    <tr>\n",
       "      <th>3</th>\n",
       "      <td>457852.0</td>\n",
       "      <td>2022-01-12</td>\n",
       "      <td>14:00:00</td>\n",
       "      <td>15:00:00</td>\n",
       "      <td>Community-based</td>\n",
       "      <td>Service Delivered</td>\n",
       "      <td>HEMELKATIE1</td>\n",
       "      <td>2022-01-18 10:39:51</td>\n",
       "      <td>IEP Meeting</td>\n",
       "      <td>LTVEC</td>\n",
       "      <td>EIRA</td>\n",
       "      <td>Dev. Therapy Prof - Home/Community</td>\n",
       "    </tr>\n",
       "    <tr>\n",
       "      <th>4</th>\n",
       "      <td>458051.0</td>\n",
       "      <td>2022-01-12</td>\n",
       "      <td>12:00:00</td>\n",
       "      <td>13:00:00</td>\n",
       "      <td>Telehealth</td>\n",
       "      <td>Service Delivered</td>\n",
       "      <td>JONESMEGAN</td>\n",
       "      <td>2022-01-12 13:46:48</td>\n",
       "      <td>IFSP Meeting</td>\n",
       "      <td>First Steps, Inc (EIRA)</td>\n",
       "      <td>EIRA</td>\n",
       "      <td>Dev. Therapy Prof - Home/Community</td>\n",
       "    </tr>\n",
       "  </tbody>\n",
       "</table>\n",
       "</div>"
      ],
      "text/plain": [
       "   CHILD_ID SERVICE_DATE START_TIME  END_TIME  SERVICE_SETTING  \\\n",
       "0  457136.0   2022-01-21   09:30:00  10:30:00  Community-based   \n",
       "1  457136.0   2022-02-15   14:00:00  15:00:00  Community-based   \n",
       "2  457585.0   2022-01-24   08:30:00  09:30:00       Telehealth   \n",
       "3  457852.0   2022-01-12   14:00:00  15:00:00  Community-based   \n",
       "4  458051.0   2022-01-12   12:00:00  13:00:00       Telehealth   \n",
       "\n",
       "    SERVICE DELIVERY          ADD_USER            ADD_DATE  \\\n",
       "0  Service Delivered         LEECAROL1 2022-01-21 17:54:45   \n",
       "1  Service Delivered         LEECAROL1 2022-02-16 05:29:12   \n",
       "2  Service Delivered  MILLARDCATHERINE 2022-01-24 14:18:29   \n",
       "3  Service Delivered       HEMELKATIE1 2022-01-18 10:39:51   \n",
       "4  Service Delivered        JONESMEGAN 2022-01-12 13:46:48   \n",
       "\n",
       "  IFSP Teaming ID name                         Agency Name Agency Type  \\\n",
       "0          IEP Meeting  Siskin Children's Institute (EIRA)        EIRA   \n",
       "1             Co-Visit  Siskin Children's Institute (EIRA)        EIRA   \n",
       "2          IEP Meeting  Siskin Children's Institute (EIRA)        EIRA   \n",
       "3          IEP Meeting                               LTVEC        EIRA   \n",
       "4         IFSP Meeting             First Steps, Inc (EIRA)        EIRA   \n",
       "\n",
       "                         Service Name  \n",
       "0  Dev. Therapy Prof - Home/Community  \n",
       "1  Dev. Therapy Prof - Home/Community  \n",
       "2  Dev. Therapy Prof - Home/Community  \n",
       "3  Dev. Therapy Prof - Home/Community  \n",
       "4  Dev. Therapy Prof - Home/Community  "
      ]
     },
     "execution_count": 41,
     "metadata": {},
     "output_type": "execute_result"
    }
   ],
   "source": [
    "df = pd.read_excel('../data/TEIS_IFSP_Teaming_Jan_2022-_Jan_2023.xlsx')\n",
    "df2 = pd.read_csv('../data/TEIS_IFSP_Teaming_Jan_2022-_Jan_2023.xlsx - All Children with IFSPs.csv')\n",
    "\n",
    "df.head()"
   ]
  },
  {
   "cell_type": "code",
   "execution_count": 7,
   "metadata": {},
   "outputs": [
    {
     "name": "stdout",
     "output_type": "stream",
     "text": [
      "<class 'pandas.core.frame.DataFrame'>\n",
      "RangeIndex: 9543 entries, 0 to 9542\n",
      "Data columns (total 12 columns):\n",
      " #   Column                Non-Null Count  Dtype         \n",
      "---  ------                --------------  -----         \n",
      " 0   CHILD_ID              9543 non-null   float64       \n",
      " 1   SERVICE_DATE          9543 non-null   datetime64[ns]\n",
      " 2   START_TIME            9532 non-null   object        \n",
      " 3   END_TIME              9532 non-null   object        \n",
      " 4   SERVICE_SETTING       9533 non-null   object        \n",
      " 5   SERVICE DELIVERY      9543 non-null   object        \n",
      " 6   ADD_USER              9543 non-null   object        \n",
      " 7   ADD_DATE              9543 non-null   datetime64[ns]\n",
      " 8   IFSP Teaming ID name  9543 non-null   object        \n",
      " 9   Agency Name           9543 non-null   object        \n",
      " 10  Agency Type           9543 non-null   object        \n",
      " 11  Service Name          9543 non-null   object        \n",
      "dtypes: datetime64[ns](2), float64(1), object(9)\n",
      "memory usage: 894.8+ KB\n"
     ]
    }
   ],
   "source": [
    "df.info()"
   ]
  },
  {
   "cell_type": "code",
   "execution_count": 15,
   "metadata": {},
   "outputs": [
    {
     "data": {
      "text/plain": [
       "Index(['POE', 'Child ID', 'Referral Date', 'Exit Date'], dtype='object')"
      ]
     },
     "execution_count": 15,
     "metadata": {},
     "output_type": "execute_result"
    }
   ],
   "source": [
    "df2.columns"
   ]
  },
  {
   "cell_type": "code",
   "execution_count": 13,
   "metadata": {},
   "outputs": [
    {
     "data": {
      "text/html": [
       "<div>\n",
       "<style scoped>\n",
       "    .dataframe tbody tr th:only-of-type {\n",
       "        vertical-align: middle;\n",
       "    }\n",
       "\n",
       "    .dataframe tbody tr th {\n",
       "        vertical-align: top;\n",
       "    }\n",
       "\n",
       "    .dataframe thead th {\n",
       "        text-align: right;\n",
       "    }\n",
       "</style>\n",
       "<table border=\"1\" class=\"dataframe\">\n",
       "  <thead>\n",
       "    <tr style=\"text-align: right;\">\n",
       "      <th></th>\n",
       "      <th>CHILD_ID</th>\n",
       "      <th>SERVICE_DATE</th>\n",
       "      <th>START_TIME</th>\n",
       "      <th>END_TIME</th>\n",
       "      <th>SERVICE_SETTING</th>\n",
       "      <th>SERVICE DELIVERY</th>\n",
       "      <th>ADD_USER</th>\n",
       "      <th>ADD_DATE</th>\n",
       "      <th>IFSP Teaming ID name</th>\n",
       "      <th>Agency Name</th>\n",
       "      <th>Agency Type</th>\n",
       "      <th>Service Name</th>\n",
       "    </tr>\n",
       "  </thead>\n",
       "  <tbody>\n",
       "    <tr>\n",
       "      <th>0</th>\n",
       "      <td>457136.0</td>\n",
       "      <td>2022-01-21</td>\n",
       "      <td>09:30:00</td>\n",
       "      <td>10:30:00</td>\n",
       "      <td>Community-based</td>\n",
       "      <td>Service Delivered</td>\n",
       "      <td>LEECAROL1</td>\n",
       "      <td>2022-01-21 17:54:45</td>\n",
       "      <td>IEP Meeting</td>\n",
       "      <td>Siskin Children's Institute (EIRA)</td>\n",
       "      <td>EIRA</td>\n",
       "      <td>Dev. Therapy Prof - Home/Community</td>\n",
       "    </tr>\n",
       "    <tr>\n",
       "      <th>1</th>\n",
       "      <td>457136.0</td>\n",
       "      <td>2022-02-15</td>\n",
       "      <td>14:00:00</td>\n",
       "      <td>15:00:00</td>\n",
       "      <td>Community-based</td>\n",
       "      <td>Service Delivered</td>\n",
       "      <td>LEECAROL1</td>\n",
       "      <td>2022-02-16 05:29:12</td>\n",
       "      <td>Co-Visit</td>\n",
       "      <td>Siskin Children's Institute (EIRA)</td>\n",
       "      <td>EIRA</td>\n",
       "      <td>Dev. Therapy Prof - Home/Community</td>\n",
       "    </tr>\n",
       "    <tr>\n",
       "      <th>2</th>\n",
       "      <td>457585.0</td>\n",
       "      <td>2022-01-24</td>\n",
       "      <td>08:30:00</td>\n",
       "      <td>09:30:00</td>\n",
       "      <td>Telehealth</td>\n",
       "      <td>Service Delivered</td>\n",
       "      <td>MILLARDCATHERINE</td>\n",
       "      <td>2022-01-24 14:18:29</td>\n",
       "      <td>IEP Meeting</td>\n",
       "      <td>Siskin Children's Institute (EIRA)</td>\n",
       "      <td>EIRA</td>\n",
       "      <td>Dev. Therapy Prof - Home/Community</td>\n",
       "    </tr>\n",
       "    <tr>\n",
       "      <th>3</th>\n",
       "      <td>457852.0</td>\n",
       "      <td>2022-01-12</td>\n",
       "      <td>14:00:00</td>\n",
       "      <td>15:00:00</td>\n",
       "      <td>Community-based</td>\n",
       "      <td>Service Delivered</td>\n",
       "      <td>HEMELKATIE1</td>\n",
       "      <td>2022-01-18 10:39:51</td>\n",
       "      <td>IEP Meeting</td>\n",
       "      <td>LTVEC</td>\n",
       "      <td>EIRA</td>\n",
       "      <td>Dev. Therapy Prof - Home/Community</td>\n",
       "    </tr>\n",
       "    <tr>\n",
       "      <th>4</th>\n",
       "      <td>458051.0</td>\n",
       "      <td>2022-01-12</td>\n",
       "      <td>12:00:00</td>\n",
       "      <td>13:00:00</td>\n",
       "      <td>Telehealth</td>\n",
       "      <td>Service Delivered</td>\n",
       "      <td>JONESMEGAN</td>\n",
       "      <td>2022-01-12 13:46:48</td>\n",
       "      <td>IFSP Meeting</td>\n",
       "      <td>First Steps, Inc (EIRA)</td>\n",
       "      <td>EIRA</td>\n",
       "      <td>Dev. Therapy Prof - Home/Community</td>\n",
       "    </tr>\n",
       "  </tbody>\n",
       "</table>\n",
       "</div>"
      ],
      "text/plain": [
       "   CHILD_ID SERVICE_DATE START_TIME  END_TIME  SERVICE_SETTING  \\\n",
       "0  457136.0   2022-01-21   09:30:00  10:30:00  Community-based   \n",
       "1  457136.0   2022-02-15   14:00:00  15:00:00  Community-based   \n",
       "2  457585.0   2022-01-24   08:30:00  09:30:00       Telehealth   \n",
       "3  457852.0   2022-01-12   14:00:00  15:00:00  Community-based   \n",
       "4  458051.0   2022-01-12   12:00:00  13:00:00       Telehealth   \n",
       "\n",
       "    SERVICE DELIVERY          ADD_USER            ADD_DATE  \\\n",
       "0  Service Delivered         LEECAROL1 2022-01-21 17:54:45   \n",
       "1  Service Delivered         LEECAROL1 2022-02-16 05:29:12   \n",
       "2  Service Delivered  MILLARDCATHERINE 2022-01-24 14:18:29   \n",
       "3  Service Delivered       HEMELKATIE1 2022-01-18 10:39:51   \n",
       "4  Service Delivered        JONESMEGAN 2022-01-12 13:46:48   \n",
       "\n",
       "  IFSP Teaming ID name                         Agency Name Agency Type  \\\n",
       "0          IEP Meeting  Siskin Children's Institute (EIRA)        EIRA   \n",
       "1             Co-Visit  Siskin Children's Institute (EIRA)        EIRA   \n",
       "2          IEP Meeting  Siskin Children's Institute (EIRA)        EIRA   \n",
       "3          IEP Meeting                               LTVEC        EIRA   \n",
       "4         IFSP Meeting             First Steps, Inc (EIRA)        EIRA   \n",
       "\n",
       "                         Service Name  \n",
       "0  Dev. Therapy Prof - Home/Community  \n",
       "1  Dev. Therapy Prof - Home/Community  \n",
       "2  Dev. Therapy Prof - Home/Community  \n",
       "3  Dev. Therapy Prof - Home/Community  \n",
       "4  Dev. Therapy Prof - Home/Community  "
      ]
     },
     "execution_count": 13,
     "metadata": {},
     "output_type": "execute_result"
    }
   ],
   "source": [
    "df = pd.read_excel('../data/TEIS_IFSP_Teaming_Jan_2022-_Jan_2023.xlsx')\n",
    "\n",
    "df.head()"
   ]
  },
  {
   "cell_type": "code",
   "execution_count": 65,
   "metadata": {},
   "outputs": [
    {
     "name": "stdout",
     "output_type": "stream",
     "text": [
      "['Community-based' 'Telehealth' 'Home' 'Other' nan]\n"
     ]
    }
   ],
   "source": [
    "unique_service_settings = df['SERVICE_SETTING'].unique()\n",
    "print(unique_service_settings)"
   ]
  },
  {
   "attachments": {},
   "cell_type": "markdown",
   "metadata": {},
   "source": [
    "What is the rate of telehealth versus other services? (graph)"
   ]
  },
  {
   "cell_type": "code",
   "execution_count": 78,
   "metadata": {},
   "outputs": [
    {
     "data": {
      "image/png": "[encoded data removed]",
      "text/plain": [
       "<Figure size 720x432 with 1 Axes>"
      ]
     },
     "metadata": {
      "needs_background": "light"
     },
     "output_type": "display_data"
    }
   ],
   "source": [
    "# Calculate the rate of each unique service setting\n",
    "service_counts = df['SERVICE_SETTING'].value_counts()\n",
    "total_services = len(df)\n",
    "service_rates = (service_counts / total_services) * 100\n",
    "\n",
    "# Assign colors to each unique service setting\n",
    "colors = plt.cm.Set3(np.linspace(0, 1, len(service_rates)))\n",
    "\n",
    "# Plot the rates of each service setting\n",
    "plt.figure(figsize=(10, 6))\n",
    "bars = plt.bar(service_rates.index, service_rates, color=colors)\n",
    "plt.xlabel('Service Setting')\n",
    "plt.ylabel('Rate (%)')\n",
    "plt.title('Rate of Each Service Setting')\n",
    "plt.xticks(rotation=45)\n",
    "\n",
    "# Add percentage values \n",
    "for bar in bars:\n",
    "    height = bar.get_height()\n",
    "    plt.text(bar.get_x() + bar.get_width() / 2, height,\n",
    "             f'{height:.1f}%', ha='center', va='bottom')\n",
    "\n",
    "plt.show()"
   ]
  },
  {
   "attachments": {},
   "cell_type": "markdown",
   "metadata": {},
   "source": [
    "Is telehealth used for a specific type of FSP Teaming ID Name? (Bar graph)\n"
   ]
  },
  {
   "cell_type": "code",
   "execution_count": 76,
   "metadata": {},
   "outputs": [
    {
     "data": {
      "image/png": "[encoded data removed]",
      "text/plain": [
       "<Figure size 720x432 with 1 Axes>"
      ]
     },
     "metadata": {
      "needs_background": "light"
     },
     "output_type": "display_data"
    }
   ],
   "source": [
    "# Filter the data for telehealth services\n",
    "telehealth_data = df[df['SERVICE_SETTING'] == 'Telehealth']\n",
    "\n",
    "# Count the occurrences of each FSP Teaming ID Name in telehealth services\n",
    "fsp_teaming_counts = telehealth_data['IFSP Teaming ID name'].value_counts()\n",
    "\n",
    "# Plot the distribution of FSP Teaming ID Names for telehealth services\n",
    "plt.figure(figsize=(10, 6))\n",
    "ax = sns.barplot(x=fsp_teaming_counts.index, y=fsp_teaming_counts.values)\n",
    "plt.xlabel('FSP Teaming ID Name')\n",
    "plt.ylabel('Count')\n",
    "plt.title('Distribution of IFSP Teaming ID Name for Telehealth Services')\n",
    "\n",
    "# Add count labels to the bars\n",
    "for i, count in enumerate(fsp_teaming_counts.values):\n",
    "    ax.text(i, count, str(count), ha='center', va='bottom')\n",
    "\n",
    "plt.xticks(rotation=45)\n",
    "plt.show()"
   ]
  },
  {
   "attachments": {},
   "cell_type": "markdown",
   "metadata": {},
   "source": [
    "What is the rate of co-visits that are telehealth? (Pie Chart)"
   ]
  },
  {
   "cell_type": "code",
   "execution_count": 75,
   "metadata": {},
   "outputs": [
    {
     "data": {
      "image/png": "[encoded data removed]",
      "text/plain": [
       "<Figure size 576x576 with 1 Axes>"
      ]
     },
     "metadata": {},
     "output_type": "display_data"
    }
   ],
   "source": [
    "# Filter the data for co-visits\n",
    "co_visits_data = df[df['IFSP Teaming ID name'] == 'Co-Visit']\n",
    "\n",
    "# Count the occurrences of co-visits by service setting\n",
    "co_visits_counts = co_visits_data['SERVICE_SETTING'].value_counts()\n",
    "\n",
    "# Calculate the rate of co-visits that are telehealth\n",
    "telehealth_rate = co_visits_counts.get('Telehealth', 0) / co_visits_counts.sum() * 100\n",
    "\n",
    "# Calculate the rate of co-visits that are not telehealth\n",
    "other_rate = 100 - telehealth_rate\n",
    "\n",
    "# Create a larger figure for the pie chart\n",
    "plt.figure(figsize=(8, 8))\n",
    "\n",
    "# Create the pie chart to visualize the rates\n",
    "labels = ['Telehealth', 'Other']\n",
    "sizes = [telehealth_rate, other_rate]\n",
    "colors = ['#50C878', '#800080']\n",
    "\n",
    "plt.pie(sizes, labels=labels, colors=colors, autopct='%1.1f%%')\n",
    "plt.title('Rate of Co-Visits: Telehealth vs Other')\n",
    "plt.xlabel('Service Setting')\n",
    "plt.ylabel('Rate (%)')\n",
    "plt.axis('equal')\n",
    "plt.legend(prop={'size': 12}) \n",
    "plt.show()"
   ]
  },
  {
   "cell_type": "code",
   "execution_count": 57,
   "metadata": {},
   "outputs": [
    {
     "name": "stdout",
     "output_type": "stream",
     "text": [
      "Number of co-visits conducted via telehealth: 775\n"
     ]
    }
   ],
   "source": [
    "co_visits_telehealth_df = df[(df['IFSP Teaming ID name'] == 'Co-Visit') & (df['SERVICE_SETTING'] == 'Telehealth')]\n",
    "num_co_visits_telehealth = co_visits_telehealth_df.shape[0]\n",
    "print(\"Number of co-visits conducted via telehealth:\", num_co_visits_telehealth)\n"
   ]
  },
  {
   "cell_type": "code",
   "execution_count": 61,
   "metadata": {},
   "outputs": [
    {
     "name": "stdout",
     "output_type": "stream",
     "text": [
      "Number of co-visits: 4091\n",
      "Total count of all IFSP Teaming ID names: 9543\n",
      "Rate of co-visits versus all other IFSP Teaming ID names: 0.4286911872576758\n"
     ]
    }
   ],
   "source": [
    "# Calculate the number of co-visits\n",
    "num_co_visits = df[df['IFSP Teaming ID name'] == 'Co-Visit'].shape[0]\n",
    "\n",
    "# Calculate the total count of all IFSP Teaming ID names\n",
    "total_count = df['IFSP Teaming ID name'].value_counts().sum()\n",
    "\n",
    "# Calculate the rate of co-visits\n",
    "co_visits_rate = num_co_visits / total_count\n",
    "\n",
    "# Print the results\n",
    "print(\"Number of co-visits:\", num_co_visits)\n",
    "print(\"Total count of all IFSP Teaming ID names:\", total_count)\n",
    "print(\"Rate of co-visits versus all other IFSP Teaming ID names:\", co_visits_rate)"
   ]
  },
  {
   "cell_type": "code",
   "execution_count": 79,
   "metadata": {},
   "outputs": [
    {
     "name": "stdout",
     "output_type": "stream",
     "text": [
      "                                   Agency Name  Agency Type  Count\n",
      "15          LeBonheur EI & Dev (LEAD) (vendor)  Independent    177\n",
      "27  Shelby Residential & Voc Svcs(SRVS) (EIRA)         EIRA     57\n",
      "21        Physical Therapy Services, PA (EIRA)         EIRA     52\n",
      "34                                 WAVES, Inc.         EIRA     49\n",
      "18           Middle Tennessee State University         EIRA     47\n",
      "33      Therapy & Learning Center, Inc. (EIRA)         EIRA     41\n",
      "5                          Emory Valley Center         EIRA     39\n",
      "14            LeBonheur EI & Dev (LEAD) (EIRA)         EIRA     35\n",
      "1                 Community Development Center         EIRA     33\n",
      "22                 Progressive Directions Inc.         EIRA     27\n"
     ]
    },
    {
     "data": {
      "image/png": "[encoded data removed]",
      "text/plain": [
       "<Figure size 720x432 with 1 Axes>"
      ]
     },
     "metadata": {
      "needs_background": "light"
     },
     "output_type": "display_data"
    }
   ],
   "source": [
    "# Group the data by \"Agency Name\" and \"Agency Type\" and count the occurrences\n",
    "co_visits_counts = co_visits_telehealth.groupby([\"Agency Name\", \"Agency Type\"]).size().reset_index(name=\"Count\")\n",
    "\n",
    "# Sort the counts in descending order\n",
    "co_visits_counts = co_visits_counts.sort_values(by=\"Count\", ascending=False)\n",
    "\n",
    "# Take the top 10 rows\n",
    "top_10_co_visits = co_visits_counts.head(10)\n",
    "print(top_10_co_visits[[\"Agency Name\", \"Agency Type\", \"Count\"]])\n",
    "\n",
    "# Plot the top 10 Co-Visits conducted via Telehealth\n",
    "plt.figure(figsize=(10, 6))\n",
    "sns.barplot(data=top_10_co_visits, y=\"Agency Name\", x=\"Count\", hue=\"Agency Type\")\n",
    "plt.xlabel(\"Number of Co-Visits\")\n",
    "plt.ylabel(\"Agency Name\")\n",
    "plt.title(\"Top 10 Agency Names of Co-Visits Conducted via Telehealth\")\n",
    "plt.legend(title=\"Agency Type\")\n",
    "plt.show()"
   ]
  },
  {
   "cell_type": "code",
   "execution_count": 60,
   "metadata": {},
   "outputs": [
    {
     "name": "stderr",
     "output_type": "stream",
     "text": [
      "C:\\Users\\redst\\AppData\\Local\\Temp\\ipykernel_21296\\3902219622.py:5: SettingWithCopyWarning: \n",
      "A value is trying to be set on a copy of a slice from a DataFrame.\n",
      "Try using .loc[row_indexer,col_indexer] = value instead\n",
      "\n",
      "See the caveats in the documentation: https://pandas.pydata.org/pandas-docs/stable/user_guide/indexing.html#returning-a-view-versus-a-copy\n",
      "  co_visits_telehealth_df.loc[:, 'Month'] = pd.to_datetime(co_visits_telehealth_df['SERVICE_DATE']).dt.month\n"
     ]
    },
    {
     "data": {
      "image/png": "[encoded data removed]",
      "text/plain": [
       "<Figure size 576x432 with 1 Axes>"
      ]
     },
     "metadata": {
      "needs_background": "light"
     },
     "output_type": "display_data"
    }
   ],
   "source": [
    "# Filter the data frame to include only records with co-visits and telehealth service setting\n",
    "co_visits_telehealth_df = df.loc[(df['IFSP Teaming ID name'] == 'Co-Visit') & (df['SERVICE_SETTING'] == 'Telehealth'), :]\n",
    "\n",
    "# Extract the month information from the date column using .loc\n",
    "co_visits_telehealth_df.loc[:, 'Month'] = pd.to_datetime(co_visits_telehealth_df['SERVICE_DATE']).dt.month\n",
    "\n",
    "# Count the occurrences of co-visits in each month\n",
    "co_visits_by_month = co_visits_telehealth_df['Month'].value_counts().sort_index()\n",
    "\n",
    "# Map month numbers to month names\n",
    "month_names = [calendar.month_name[i] for i in co_visits_by_month.index]\n",
    "\n",
    "# Plot the breakdown of co-visits by month\n",
    "plt.figure(figsize=(8, 6))\n",
    "co_visits_by_month.plot(kind='bar')\n",
    "plt.xlabel('Month')\n",
    "plt.ylabel('Number of Co-Visits')\n",
    "plt.title('Breakdown of Co-Visits via Telehealth by Month')\n",
    "plt.xticks(range(len(co_visits_by_month)), month_names, rotation=45)\n",
    "plt.show()\n"
   ]
  },
  {
   "cell_type": "code",
   "execution_count": null,
   "metadata": {},
   "outputs": [],
   "source": []
  },
  {
   "attachments": {},
   "cell_type": "markdown",
   "metadata": {},
   "source": [
    "1. How many children are receiving co-visits? What is the rate of co-visits? That is, out of children how have an IFSP, how many are receiving co-visits? What is the cadence of co-visits?"
   ]
  },
  {
   "cell_type": "code",
   "execution_count": null,
   "metadata": {},
   "outputs": [],
   "source": []
  },
  {
   "attachments": {},
   "cell_type": "markdown",
   "metadata": {},
   "source": [
    "2. Children can have up to 6 co-visits per year. How many are recieving all 6 visits? Are there any who are exceeding 6 visits? In what setting do co-visits typically occur?\n"
   ]
  },
  {
   "attachments": {},
   "cell_type": "markdown",
   "metadata": {},
   "source": []
  },
  {
   "attachments": {},
   "cell_type": "markdown",
   "metadata": {},
   "source": [
    "3. Who is performing co-visits? Are they generally performed by the same provider or discipline or by multiple providers or disciplines? Is it more likely for a co-visit to occur if vendor services are within the same agency?"
   ]
  },
  {
   "attachments": {},
   "cell_type": "markdown",
   "metadata": {},
   "source": []
  },
  {
   "attachments": {},
   "cell_type": "markdown",
   "metadata": {},
   "source": [
    "4. Does participation vary by service type? by service setting? by point of entry?\n"
   ]
  },
  {
   "cell_type": "code",
   "execution_count": null,
   "metadata": {},
   "outputs": [],
   "source": []
  },
  {
   "attachments": {},
   "cell_type": "markdown",
   "metadata": {},
   "source": [
    "5. What is the rate of telehealth versus other services? Is telehealth used for a specific type of FSP Teaming ID Name?"
   ]
  },
  {
   "cell_type": "code",
   "execution_count": null,
   "metadata": {},
   "outputs": [],
   "source": []
  }
 ],
 "metadata": {
  "kernelspec": {
   "display_name": "base",
   "language": "python",
   "name": "python3"
  },
  "language_info": {
   "codemirror_mode": {
    "name": "ipython",
    "version": 3
   },
   "file_extension": ".py",
   "mimetype": "text/x-python",
   "name": "python",
   "nbconvert_exporter": "python",
   "pygments_lexer": "ipython3",
   "version": "3.9.12"
  },
  "orig_nbformat": 4
 },
 "nbformat": 4,
 "nbformat_minor": 2
}
