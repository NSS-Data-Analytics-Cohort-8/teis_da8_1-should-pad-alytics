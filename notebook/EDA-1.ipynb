{
 "cells": [
  {
   "cell_type": "code",
   "execution_count": 13,
   "metadata": {},
   "outputs": [],
   "source": [
    "import pandas as pd\n",
    "import matplotlib.pyplot as plt\n",
    "import seaborn as sns\n",
    "import numpy as np\n",
    "%matplotlib inline\n"
   ]
  },
  {
   "cell_type": "code",
   "execution_count": 22,
   "metadata": {},
   "outputs": [
    {
     "data": {
      "text/html": [
       "<div>\n",
       "<style scoped>\n",
       "    .dataframe tbody tr th:only-of-type {\n",
       "        vertical-align: middle;\n",
       "    }\n",
       "\n",
       "    .dataframe tbody tr th {\n",
       "        vertical-align: top;\n",
       "    }\n",
       "\n",
       "    .dataframe thead th {\n",
       "        text-align: right;\n",
       "    }\n",
       "</style>\n",
       "<table border=\"1\" class=\"dataframe\">\n",
       "  <thead>\n",
       "    <tr style=\"text-align: right;\">\n",
       "      <th></th>\n",
       "      <th>CHILD_ID</th>\n",
       "      <th>SERVICE_DATE</th>\n",
       "      <th>START_TIME</th>\n",
       "      <th>END_TIME</th>\n",
       "      <th>SERVICE_SETTING</th>\n",
       "      <th>SERVICE DELIVERY</th>\n",
       "      <th>ADD_USER</th>\n",
       "      <th>ADD_DATE</th>\n",
       "      <th>IFSP Teaming ID name</th>\n",
       "      <th>Agency Name</th>\n",
       "      <th>Agency Type</th>\n",
       "      <th>Service Name</th>\n",
       "    </tr>\n",
       "  </thead>\n",
       "  <tbody>\n",
       "    <tr>\n",
       "      <th>0</th>\n",
       "      <td>457136.0</td>\n",
       "      <td>2022-01-21</td>\n",
       "      <td>09:30:00</td>\n",
       "      <td>10:30:00</td>\n",
       "      <td>Community-based</td>\n",
       "      <td>Service Delivered</td>\n",
       "      <td>LEECAROL1</td>\n",
       "      <td>2022-01-21 17:54:45</td>\n",
       "      <td>IEP Meeting</td>\n",
       "      <td>Siskin Children's Institute (EIRA)</td>\n",
       "      <td>EIRA</td>\n",
       "      <td>Dev. Therapy Prof - Home/Community</td>\n",
       "    </tr>\n",
       "    <tr>\n",
       "      <th>1</th>\n",
       "      <td>457136.0</td>\n",
       "      <td>2022-02-15</td>\n",
       "      <td>14:00:00</td>\n",
       "      <td>15:00:00</td>\n",
       "      <td>Community-based</td>\n",
       "      <td>Service Delivered</td>\n",
       "      <td>LEECAROL1</td>\n",
       "      <td>2022-02-16 05:29:12</td>\n",
       "      <td>Co-Visit</td>\n",
       "      <td>Siskin Children's Institute (EIRA)</td>\n",
       "      <td>EIRA</td>\n",
       "      <td>Dev. Therapy Prof - Home/Community</td>\n",
       "    </tr>\n",
       "    <tr>\n",
       "      <th>2</th>\n",
       "      <td>457585.0</td>\n",
       "      <td>2022-01-24</td>\n",
       "      <td>08:30:00</td>\n",
       "      <td>09:30:00</td>\n",
       "      <td>Telehealth</td>\n",
       "      <td>Service Delivered</td>\n",
       "      <td>MILLARDCATHERINE</td>\n",
       "      <td>2022-01-24 14:18:29</td>\n",
       "      <td>IEP Meeting</td>\n",
       "      <td>Siskin Children's Institute (EIRA)</td>\n",
       "      <td>EIRA</td>\n",
       "      <td>Dev. Therapy Prof - Home/Community</td>\n",
       "    </tr>\n",
       "    <tr>\n",
       "      <th>3</th>\n",
       "      <td>457852.0</td>\n",
       "      <td>2022-01-12</td>\n",
       "      <td>14:00:00</td>\n",
       "      <td>15:00:00</td>\n",
       "      <td>Community-based</td>\n",
       "      <td>Service Delivered</td>\n",
       "      <td>HEMELKATIE1</td>\n",
       "      <td>2022-01-18 10:39:51</td>\n",
       "      <td>IEP Meeting</td>\n",
       "      <td>LTVEC</td>\n",
       "      <td>EIRA</td>\n",
       "      <td>Dev. Therapy Prof - Home/Community</td>\n",
       "    </tr>\n",
       "    <tr>\n",
       "      <th>4</th>\n",
       "      <td>458051.0</td>\n",
       "      <td>2022-01-12</td>\n",
       "      <td>12:00:00</td>\n",
       "      <td>13:00:00</td>\n",
       "      <td>Telehealth</td>\n",
       "      <td>Service Delivered</td>\n",
       "      <td>JONESMEGAN</td>\n",
       "      <td>2022-01-12 13:46:48</td>\n",
       "      <td>IFSP Meeting</td>\n",
       "      <td>First Steps, Inc (EIRA)</td>\n",
       "      <td>EIRA</td>\n",
       "      <td>Dev. Therapy Prof - Home/Community</td>\n",
       "    </tr>\n",
       "  </tbody>\n",
       "</table>\n",
       "</div>"
      ],
      "text/plain": [
       "   CHILD_ID SERVICE_DATE START_TIME  END_TIME  SERVICE_SETTING  \\\n",
       "0  457136.0   2022-01-21   09:30:00  10:30:00  Community-based   \n",
       "1  457136.0   2022-02-15   14:00:00  15:00:00  Community-based   \n",
       "2  457585.0   2022-01-24   08:30:00  09:30:00       Telehealth   \n",
       "3  457852.0   2022-01-12   14:00:00  15:00:00  Community-based   \n",
       "4  458051.0   2022-01-12   12:00:00  13:00:00       Telehealth   \n",
       "\n",
       "    SERVICE DELIVERY          ADD_USER            ADD_DATE  \\\n",
       "0  Service Delivered         LEECAROL1 2022-01-21 17:54:45   \n",
       "1  Service Delivered         LEECAROL1 2022-02-16 05:29:12   \n",
       "2  Service Delivered  MILLARDCATHERINE 2022-01-24 14:18:29   \n",
       "3  Service Delivered       HEMELKATIE1 2022-01-18 10:39:51   \n",
       "4  Service Delivered        JONESMEGAN 2022-01-12 13:46:48   \n",
       "\n",
       "  IFSP Teaming ID name                         Agency Name Agency Type  \\\n",
       "0          IEP Meeting  Siskin Children's Institute (EIRA)        EIRA   \n",
       "1             Co-Visit  Siskin Children's Institute (EIRA)        EIRA   \n",
       "2          IEP Meeting  Siskin Children's Institute (EIRA)        EIRA   \n",
       "3          IEP Meeting                               LTVEC        EIRA   \n",
       "4         IFSP Meeting             First Steps, Inc (EIRA)        EIRA   \n",
       "\n",
       "                         Service Name  \n",
       "0  Dev. Therapy Prof - Home/Community  \n",
       "1  Dev. Therapy Prof - Home/Community  \n",
       "2  Dev. Therapy Prof - Home/Community  \n",
       "3  Dev. Therapy Prof - Home/Community  \n",
       "4  Dev. Therapy Prof - Home/Community  "
      ]
     },
     "execution_count": 22,
     "metadata": {},
     "output_type": "execute_result"
    }
   ],
   "source": [
    "df = pd.read_excel('../data/TEIS_IFSP_Teaming_Jan_2022-_Jan_2023.xlsx')\n",
    "df2 = pd.read_csv('../data/TEIS_IFSP_Teaming_Jan_2022-_Jan_2023.xlsx - All Children with IFSPs.csv')\n",
    "\n",
    "df.head()"
   ]
  },
  {
   "cell_type": "code",
   "execution_count": 14,
   "metadata": {},
   "outputs": [
    {
     "name": "stdout",
     "output_type": "stream",
     "text": [
      "<class 'pandas.core.frame.DataFrame'>\n",
      "RangeIndex: 9543 entries, 0 to 9542\n",
      "Data columns (total 12 columns):\n",
      " #   Column                Non-Null Count  Dtype         \n",
      "---  ------                --------------  -----         \n",
      " 0   CHILD_ID              9543 non-null   float64       \n",
      " 1   SERVICE_DATE          9543 non-null   datetime64[ns]\n",
      " 2   START_TIME            9532 non-null   object        \n",
      " 3   END_TIME              9532 non-null   object        \n",
      " 4   SERVICE_SETTING       9533 non-null   object        \n",
      " 5   SERVICE DELIVERY      9543 non-null   object        \n",
      " 6   ADD_USER              9543 non-null   object        \n",
      " 7   ADD_DATE              9543 non-null   datetime64[ns]\n",
      " 8   IFSP Teaming ID name  9543 non-null   object        \n",
      " 9   Agency Name           9543 non-null   object        \n",
      " 10  Agency Type           9543 non-null   object        \n",
      " 11  Service Name          9543 non-null   object        \n",
      "dtypes: datetime64[ns](2), float64(1), object(9)\n",
      "memory usage: 894.8+ KB\n"
     ]
    }
   ],
   "source": [
    "df.info()"
   ]
  },
  {
   "cell_type": "code",
   "execution_count": 16,
   "metadata": {},
   "outputs": [
    {
     "data": {
      "text/plain": [
       "Index(['CHILD_ID', 'SERVICE_DATE', 'START_TIME', 'END_TIME', 'SERVICE_SETTING',\n",
       "       'SERVICE DELIVERY', 'ADD_USER', 'ADD_DATE', 'IFSP Teaming ID name',\n",
       "       'Agency Name', 'Agency Type', 'Service Name'],\n",
       "      dtype='object')"
      ]
     },
     "execution_count": 16,
     "metadata": {},
     "output_type": "execute_result"
    }
   ],
   "source": [
    "df.columns"
   ]
  },
  {
   "cell_type": "code",
   "execution_count": null,
   "metadata": {},
   "outputs": [],
   "source": [
    "df = pd.read_excel('../data/TEIS_IFSP_Teaming_Jan_2022-_Jan_2023.xlsx')\n",
    "\n",
    "df.head()"
   ]
  }
 ],
 "metadata": {
  "kernelspec": {
   "display_name": "base",
   "language": "python",
   "name": "python3"
  },
  "language_info": {
   "codemirror_mode": {
    "name": "ipython",
    "version": 3
   },
   "file_extension": ".py",
   "mimetype": "text/x-python",
   "name": "python",
   "nbconvert_exporter": "python",
   "pygments_lexer": "ipython3",
   "version": "3.9.12"
  },
  "orig_nbformat": 4
 },
 "nbformat": 4,
 "nbformat_minor": 2
}
