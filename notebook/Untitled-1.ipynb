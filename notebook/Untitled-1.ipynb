{
 "cells": [
  {
   "cell_type": "code",
   "execution_count": 2,
   "metadata": {},
   "outputs": [],
   "source": [
    "import pandas as pd\n",
    "import numpy as np\n"
   ]
  },
  {
   "cell_type": "code",
   "execution_count": 3,
   "metadata": {},
   "outputs": [
    {
     "name": "stdout",
     "output_type": "stream",
     "text": [
      "<class 'pandas.core.frame.DataFrame'>\n",
      "RangeIndex: 9543 entries, 0 to 9542\n",
      "Data columns (total 12 columns):\n",
      " #   Column                Non-Null Count  Dtype         \n",
      "---  ------                --------------  -----         \n",
      " 0   CHILD_ID              9543 non-null   int64         \n",
      " 1   SERVICE_DATE          9543 non-null   datetime64[ns]\n",
      " 2   START_TIME            9532 non-null   object        \n",
      " 3   END_TIME              9532 non-null   object        \n",
      " 4   SERVICE_SETTING       9533 non-null   object        \n",
      " 5   SERVICE DELIVERY      9543 non-null   object        \n",
      " 6   ADD_USER              9543 non-null   object        \n",
      " 7   ADD_DATE              9543 non-null   datetime64[ns]\n",
      " 8   IFSP Teaming ID name  9543 non-null   object        \n",
      " 9   Agency Name           9543 non-null   object        \n",
      " 10  Agency Type           9543 non-null   object        \n",
      " 11  Service Name          9543 non-null   object        \n",
      "dtypes: datetime64[ns](2), int64(1), object(9)\n",
      "memory usage: 894.8+ KB\n"
     ]
    }
   ],
   "source": [
    "#import first sheet\n",
    "df1 = pd.read_excel('../data/TEIS_IFSP_Teaming_Jan_2022-_Jan_2023.xlsx')\n",
    "df1.info()"
   ]
  },
  {
   "cell_type": "code",
   "execution_count": 4,
   "metadata": {},
   "outputs": [
    {
     "name": "stderr",
     "output_type": "stream",
     "text": [
      "c:\\Users\\cjami\\anaconda3\\lib\\site-packages\\openpyxl\\worksheet\\_read_only.py:79: UserWarning: Unknown extension is not supported and will be removed\n",
      "  for idx, row in parser.parse():\n"
     ]
    },
    {
     "name": "stdout",
     "output_type": "stream",
     "text": [
      "<class 'pandas.core.frame.DataFrame'>\n",
      "RangeIndex: 138664 entries, 0 to 138663\n",
      "Data columns (total 4 columns):\n",
      " #   Column         Non-Null Count   Dtype         \n",
      "---  ------         --------------   -----         \n",
      " 0   POE            138664 non-null  object        \n",
      " 1   Child ID       138664 non-null  int64         \n",
      " 2   Referral Date  138664 non-null  datetime64[ns]\n",
      " 3   Exit Date      15607 non-null   datetime64[ns]\n",
      "dtypes: datetime64[ns](2), int64(1), object(1)\n",
      "memory usage: 4.2+ MB\n"
     ]
    }
   ],
   "source": [
    "df2 = pd.read_excel('../data/TEIS_IFSP_Teaming_Jan_2022-_Jan_2023.xlsx', sheet_name='All Children with IFSPs')\n",
    "df2.info()"
   ]
  },
  {
   "cell_type": "code",
   "execution_count": 9,
   "metadata": {},
   "outputs": [
    {
     "name": "stdout",
     "output_type": "stream",
     "text": [
      "3604\n"
     ]
    }
   ],
   "source": [
    "#count of telehealth visits\n",
    "count_telehealth = df1['SERVICE_SETTING'].value_counts()['Telehealth']\n",
    "count_telehealth"
   ]
  },
  {
   "cell_type": "code",
   "execution_count": 11,
   "metadata": {},
   "outputs": [
    {
     "name": "stdout",
     "output_type": "stream",
     "text": [
      "9533\n"
     ]
    }
   ],
   "source": [
    "#count of total visits\n",
    "count_visits = df1['SERVICE_SETTING'].count()\n",
    "count_visits"
   ]
  },
  {
   "cell_type": "code",
   "execution_count": 33,
   "metadata": {},
   "outputs": [
    {
     "data": {
      "text/plain": [
       "37.8055176754432"
      ]
     },
     "execution_count": 33,
     "metadata": {},
     "output_type": "execute_result"
    }
   ],
   "source": [
    "#percentage of telehealth visits\n",
    "percentage_telehealth = (count_telehealth/ count_visits) * 100\n",
    "percentage_telehealth"
   ]
  },
  {
   "cell_type": "code",
   "execution_count": 32,
   "metadata": {},
   "outputs": [
    {
     "data": {
      "text/plain": [
       "Home               4010\n",
       "Telehealth         3604\n",
       "Community-based    1291\n",
       "Other               628\n",
       "Name: SERVICE_SETTING, dtype: int64"
      ]
     },
     "execution_count": 32,
     "metadata": {},
     "output_type": "execute_result"
    }
   ],
   "source": [
    "#find the COUNT of ALL types of services listed in service_setting column\n",
    "count_setting = df1['SERVICE_SETTING'].value_counts()\n",
    "count_setting"
   ]
  },
  {
   "cell_type": "code",
   "execution_count": 31,
   "metadata": {},
   "outputs": [
    {
     "data": {
      "text/plain": [
       "Home               42.06\n",
       "Telehealth         37.81\n",
       "Community-based    13.54\n",
       "Other               6.59\n",
       "Name: SERVICE_SETTING, dtype: float64"
      ]
     },
     "execution_count": 31,
     "metadata": {},
     "output_type": "execute_result"
    }
   ],
   "source": [
    "#get PERCENTAGE for all the types of services listed in service_setting column\n",
    "percentage_setting = (count_setting / df1['SERVICE_SETTING'].count())*100\n",
    "rounded_percentsetting = percentage_setting.round(2)\n",
    "rounded_percentsetting"
   ]
  },
  {
   "cell_type": "code",
   "execution_count": 30,
   "metadata": {},
   "outputs": [
    {
     "data": {
      "text/plain": [
       "Dev. Therapy Prof - Home/Community               7671\n",
       "Occupational Therapy                              515\n",
       "Speech Therapy                                    448\n",
       "Physical Therapy                                  316\n",
       "Dev. Therapy Center-Based                         154\n",
       "Dev. Therapy - BCBA                               144\n",
       "Eval/Assess - Developmental                        72\n",
       "Vision Services                                    63\n",
       "Physical Therapy Assistant                         32\n",
       "Evaluation - Occupational Therapy                  26\n",
       "IFSP Team Member Participation (Virtual)           20\n",
       "IFSP Team Member Participation (Face-To-Face)      20\n",
       "Evaluation - Speech Therapy                        16\n",
       "Evaluation - Physical Therapy                      15\n",
       "Dev. Therapy – Registered Behavior Tech (RBT)      11\n",
       "Dev. Therapy - Behavior                             5\n",
       "Consultation – Developmental Therapy                4\n",
       "Assistive Technology                                3\n",
       "Evaluation - BCBA Developmental Therapy             3\n",
       "Occupational Therapy Assistant                      2\n",
       "Dev. Therapy ParaProf - Home/Community              1\n",
       "Speech Therapy-Group                                1\n",
       "Evaluation/Assessment - Vision                      1\n",
       "Name: Service Name, dtype: int64"
      ]
     },
     "execution_count": 30,
     "metadata": {},
     "output_type": "execute_result"
    }
   ],
   "source": [
    "#get the COUNT off ALL types of services under service_name column\n",
    "count_servicename = df1['Service Name'].value_counts()\n",
    "count_servicename"
   ]
  },
  {
   "cell_type": "code",
   "execution_count": 26,
   "metadata": {},
   "outputs": [
    {
     "name": "stdout",
     "output_type": "stream",
     "text": [
      "Dev. Therapy Prof - Home/Community               80.38\n",
      "Occupational Therapy                              5.40\n",
      "Speech Therapy                                    4.69\n",
      "Physical Therapy                                  3.31\n",
      "Dev. Therapy Center-Based                         1.61\n",
      "Dev. Therapy - BCBA                               1.51\n",
      "Eval/Assess - Developmental                       0.75\n",
      "Vision Services                                   0.66\n",
      "Physical Therapy Assistant                        0.34\n",
      "Evaluation - Occupational Therapy                 0.27\n",
      "IFSP Team Member Participation (Virtual)          0.21\n",
      "IFSP Team Member Participation (Face-To-Face)     0.21\n",
      "Evaluation - Speech Therapy                       0.17\n",
      "Evaluation - Physical Therapy                     0.16\n",
      "Dev. Therapy – Registered Behavior Tech (RBT)     0.12\n",
      "Dev. Therapy - Behavior                           0.05\n",
      "Consultation – Developmental Therapy              0.04\n",
      "Assistive Technology                              0.03\n",
      "Evaluation - BCBA Developmental Therapy           0.03\n",
      "Occupational Therapy Assistant                    0.02\n",
      "Dev. Therapy ParaProf - Home/Community            0.01\n",
      "Speech Therapy-Group                              0.01\n",
      "Evaluation/Assessment - Vision                    0.01\n",
      "Name: Service Name, dtype: float64\n"
     ]
    }
   ],
   "source": [
    "#get the PERCENTAGE off ALL types of names under service_name column\n",
    "#highest type of visit was Developmental Therapy\n",
    "percentage_servname = (count_servicename / df1['Service Name'].count())*100\n",
    "rounded_percentage_servname = percentage_servname.round(2)\n",
    "print(rounded_percentage_servname)"
   ]
  },
  {
   "cell_type": "code",
   "execution_count": 37,
   "metadata": {},
   "outputs": [
    {
     "name": "stdout",
     "output_type": "stream",
     "text": [
      "Dev. Therapy Prof - Home/Community\n",
      "Home\n"
     ]
    }
   ],
   "source": [
    "#looking for highest count of service, and location\n",
    "#Overall answer is Dev. Therapy, at Home\n",
    "highest_service = df1['Service Name'].value_counts().idxmax()\n",
    "highest_setting = df1['SERVICE_SETTING'].value_counts().idxmax()\n",
    "print(highest_service)\n",
    "print(highest_setting)\n",
    "\n",
    "\n"
   ]
  },
  {
   "cell_type": "code",
   "execution_count": 41,
   "metadata": {},
   "outputs": [
    {
     "name": "stdout",
     "output_type": "stream",
     "text": [
      "Highest Service (Telehealth): Dev. Therapy Prof - Home/Community\n",
      "Count (Telehealth): 3263\n"
     ]
    }
   ],
   "source": [
    "#get highest count of services within telehealth \n",
    "\n",
    "#create filtered_df with service_setting == telehealth\n",
    "filtered_df1 = df1[df1['SERVICE_SETTING'] == 'Telehealth']\n",
    "#find highest count of service_name looking at filtered df == telehealth\n",
    "value_counts_telehealth = filtered_df1['Service Name'].value_counts()\n",
    "highest_service_telehealth = value_counts_telehealth.idxmax()\n",
    "highest_count_telehealth = value_counts_telehealth.max()\n",
    "\n",
    "print(\"Highest Service (Telehealth):\", highest_service_telehealth)\n",
    "print(\"Count (Telehealth):\", highest_count_telehealth)\n"
   ]
  },
  {
   "cell_type": "code",
   "execution_count": null,
   "metadata": {},
   "outputs": [],
   "source": [
    "#percentage"
   ]
  }
 ],
 "metadata": {
  "kernelspec": {
   "display_name": "base",
   "language": "python",
   "name": "python3"
  },
  "language_info": {
   "codemirror_mode": {
    "name": "ipython",
    "version": 3
   },
   "file_extension": ".py",
   "mimetype": "text/x-python",
   "name": "python",
   "nbconvert_exporter": "python",
   "pygments_lexer": "ipython3",
   "version": "3.10.9"
  },
  "orig_nbformat": 4
 },
 "nbformat": 4,
 "nbformat_minor": 2
}
