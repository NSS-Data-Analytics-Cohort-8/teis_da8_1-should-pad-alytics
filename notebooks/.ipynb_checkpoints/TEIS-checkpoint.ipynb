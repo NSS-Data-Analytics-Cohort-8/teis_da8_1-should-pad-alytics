{
 "cells": [
  {
   "cell_type": "code",
   "execution_count": 1,
   "id": "cb8e951e",
   "metadata": {},
   "outputs": [],
   "source": [
    "import pandas as pd"
   ]
  },
  {
   "cell_type": "code",
   "execution_count": 2,
   "id": "cbbe5b1f",
   "metadata": {},
   "outputs": [],
   "source": [
    "sheet1=pd.read_excel('../data/TEIS_IFSP_Teaming_Jan_2022-_Jan_2023.xlsx', sheet_name='Compiled_IFSP Teaming')"
   ]
  },
  {
   "cell_type": "code",
   "execution_count": 3,
   "id": "ca102422",
   "metadata": {},
   "outputs": [],
   "source": [
    "sheet1=pd.read_excel('../data/TEIS_IFSP_Teaming_Jan_2022-_Jan_2023.xlsx', sheet_name='Compiled_IFSP Teaming')"
   ]
  },
  {
   "cell_type": "code",
   "execution_count": 4,
   "id": "5c669936",
   "metadata": {},
   "outputs": [
    {
     "name": "stderr",
     "output_type": "stream",
     "text": [
      "C:\\Users\\rober\\anaconda3\\lib\\site-packages\\openpyxl\\worksheet\\_read_only.py:79: UserWarning: Unknown extension is not supported and will be removed\n",
      "  for idx, row in parser.parse():\n"
     ]
    }
   ],
   "source": [
    "sheet2=pd.read_excel('../data/TEIS_IFSP_Teaming_Jan_2022-_Jan_2023.xlsx', sheet_name='All Children with IFSPs')"
   ]
  },
  {
   "cell_type": "code",
   "execution_count": 5,
   "id": "fb4e8058",
   "metadata": {},
   "outputs": [
    {
     "data": {
      "text/html": [
       "<div>\n",
       "<style scoped>\n",
       "    .dataframe tbody tr th:only-of-type {\n",
       "        vertical-align: middle;\n",
       "    }\n",
       "\n",
       "    .dataframe tbody tr th {\n",
       "        vertical-align: top;\n",
       "    }\n",
       "\n",
       "    .dataframe thead th {\n",
       "        text-align: right;\n",
       "    }\n",
       "</style>\n",
       "<table border=\"1\" class=\"dataframe\">\n",
       "  <thead>\n",
       "    <tr style=\"text-align: right;\">\n",
       "      <th></th>\n",
       "      <th>POE</th>\n",
       "      <th>Child ID</th>\n",
       "      <th>Referral Date</th>\n",
       "      <th>Exit Date</th>\n",
       "    </tr>\n",
       "  </thead>\n",
       "  <tbody>\n",
       "    <tr>\n",
       "      <th>0</th>\n",
       "      <td>ET</td>\n",
       "      <td>508615</td>\n",
       "      <td>2021-08-06</td>\n",
       "      <td>NaT</td>\n",
       "    </tr>\n",
       "    <tr>\n",
       "      <th>1</th>\n",
       "      <td>ET</td>\n",
       "      <td>488455</td>\n",
       "      <td>2021-11-02</td>\n",
       "      <td>NaT</td>\n",
       "    </tr>\n",
       "    <tr>\n",
       "      <th>2</th>\n",
       "      <td>ET</td>\n",
       "      <td>494500</td>\n",
       "      <td>2020-12-14</td>\n",
       "      <td>NaT</td>\n",
       "    </tr>\n",
       "    <tr>\n",
       "      <th>3</th>\n",
       "      <td>ET</td>\n",
       "      <td>515143</td>\n",
       "      <td>2021-11-22</td>\n",
       "      <td>NaT</td>\n",
       "    </tr>\n",
       "    <tr>\n",
       "      <th>4</th>\n",
       "      <td>ET</td>\n",
       "      <td>505490</td>\n",
       "      <td>2021-06-15</td>\n",
       "      <td>NaT</td>\n",
       "    </tr>\n",
       "    <tr>\n",
       "      <th>...</th>\n",
       "      <td>...</td>\n",
       "      <td>...</td>\n",
       "      <td>...</td>\n",
       "      <td>...</td>\n",
       "    </tr>\n",
       "    <tr>\n",
       "      <th>138659</th>\n",
       "      <td>UC</td>\n",
       "      <td>539845</td>\n",
       "      <td>2022-11-03</td>\n",
       "      <td>NaT</td>\n",
       "    </tr>\n",
       "    <tr>\n",
       "      <th>138660</th>\n",
       "      <td>UC</td>\n",
       "      <td>499575</td>\n",
       "      <td>2021-03-11</td>\n",
       "      <td>NaT</td>\n",
       "    </tr>\n",
       "    <tr>\n",
       "      <th>138661</th>\n",
       "      <td>UC</td>\n",
       "      <td>540987</td>\n",
       "      <td>2022-11-16</td>\n",
       "      <td>NaT</td>\n",
       "    </tr>\n",
       "    <tr>\n",
       "      <th>138662</th>\n",
       "      <td>UC</td>\n",
       "      <td>526430</td>\n",
       "      <td>2022-07-19</td>\n",
       "      <td>2023-02-13</td>\n",
       "    </tr>\n",
       "    <tr>\n",
       "      <th>138663</th>\n",
       "      <td>UC</td>\n",
       "      <td>545101</td>\n",
       "      <td>2023-01-17</td>\n",
       "      <td>NaT</td>\n",
       "    </tr>\n",
       "  </tbody>\n",
       "</table>\n",
       "<p>138664 rows × 4 columns</p>\n",
       "</div>"
      ],
      "text/plain": [
       "       POE  Child ID Referral Date  Exit Date\n",
       "0       ET    508615    2021-08-06        NaT\n",
       "1       ET    488455    2021-11-02        NaT\n",
       "2       ET    494500    2020-12-14        NaT\n",
       "3       ET    515143    2021-11-22        NaT\n",
       "4       ET    505490    2021-06-15        NaT\n",
       "...     ..       ...           ...        ...\n",
       "138659  UC    539845    2022-11-03        NaT\n",
       "138660  UC    499575    2021-03-11        NaT\n",
       "138661  UC    540987    2022-11-16        NaT\n",
       "138662  UC    526430    2022-07-19 2023-02-13\n",
       "138663  UC    545101    2023-01-17        NaT\n",
       "\n",
       "[138664 rows x 4 columns]"
      ]
     },
     "execution_count": 5,
     "metadata": {},
     "output_type": "execute_result"
    }
   ],
   "source": [
    "sheet2"
   ]
  },
  {
   "cell_type": "code",
   "execution_count": 6,
   "id": "da82b786",
   "metadata": {},
   "outputs": [
    {
     "name": "stdout",
     "output_type": "stream",
     "text": [
      "       POE  Child ID Referral Date  Exit Date\n",
      "0       ET    508615    2021-08-06        NaT\n",
      "1       ET    488455    2021-11-02        NaT\n",
      "2       ET    494500    2020-12-14        NaT\n",
      "3       ET    515143    2021-11-22        NaT\n",
      "4       ET    505490    2021-06-15        NaT\n",
      "...     ..       ...           ...        ...\n",
      "138659  UC    539845    2022-11-03        NaT\n",
      "138660  UC    499575    2021-03-11        NaT\n",
      "138661  UC    540987    2022-11-16        NaT\n",
      "138662  UC    526430    2022-07-19 2023-02-13\n",
      "138663  UC    545101    2023-01-17        NaT\n",
      "\n",
      "[138664 rows x 4 columns]\n"
     ]
    }
   ],
   "source": [
    "print(sheet2)\n"
   ]
  },
  {
   "cell_type": "code",
   "execution_count": 7,
   "id": "663edaeb",
   "metadata": {},
   "outputs": [],
   "source": [
    "import pandas as pd\n",
    "import numpy as np\n",
    "import matplotlib.pyplot as plt\n",
    "import seaborn as sns"
   ]
  },
  {
   "cell_type": "code",
   "execution_count": 8,
   "id": "7369b693",
   "metadata": {},
   "outputs": [],
   "source": [
    "from sqlalchemy import create_engine"
   ]
  },
  {
   "cell_type": "markdown",
   "id": "3efe486e",
   "metadata": {},
   "source": [
    "telehealthq='''\n",
    "    SELECT Service_Setting,IFSP Teaming ID name\tAgency\n",
    "    FROM Sheet1'''\n",
    "telecomp=pd.read_sql(telehealthq, con=engine)"
   ]
  },
  {
   "cell_type": "code",
   "execution_count": 9,
   "id": "edb0fb9a",
   "metadata": {
    "scrolled": true
   },
   "outputs": [
    {
     "data": {
      "text/html": [
       "<div>\n",
       "<style scoped>\n",
       "    .dataframe tbody tr th:only-of-type {\n",
       "        vertical-align: middle;\n",
       "    }\n",
       "\n",
       "    .dataframe tbody tr th {\n",
       "        vertical-align: top;\n",
       "    }\n",
       "\n",
       "    .dataframe thead th {\n",
       "        text-align: right;\n",
       "    }\n",
       "</style>\n",
       "<table border=\"1\" class=\"dataframe\">\n",
       "  <thead>\n",
       "    <tr style=\"text-align: right;\">\n",
       "      <th></th>\n",
       "      <th>CHILD_ID</th>\n",
       "      <th>SERVICE_DATE</th>\n",
       "      <th>START_TIME</th>\n",
       "      <th>END_TIME</th>\n",
       "      <th>SERVICE_SETTING</th>\n",
       "      <th>SERVICE DELIVERY</th>\n",
       "      <th>ADD_USER</th>\n",
       "      <th>ADD_DATE</th>\n",
       "      <th>IFSP Teaming ID name</th>\n",
       "      <th>Agency Name</th>\n",
       "      <th>Agency Type</th>\n",
       "      <th>Service Name</th>\n",
       "    </tr>\n",
       "  </thead>\n",
       "  <tbody>\n",
       "    <tr>\n",
       "      <th>2</th>\n",
       "      <td>457585</td>\n",
       "      <td>2022-01-24</td>\n",
       "      <td>08:30:00</td>\n",
       "      <td>09:30:00</td>\n",
       "      <td>Telehealth</td>\n",
       "      <td>Service Delivered</td>\n",
       "      <td>MILLARDCATHERINE</td>\n",
       "      <td>2022-01-24 14:18:29</td>\n",
       "      <td>IEP Meeting</td>\n",
       "      <td>Siskin Children's Institute (EIRA)</td>\n",
       "      <td>EIRA</td>\n",
       "      <td>Dev. Therapy Prof - Home/Community</td>\n",
       "    </tr>\n",
       "    <tr>\n",
       "      <th>4</th>\n",
       "      <td>458051</td>\n",
       "      <td>2022-01-12</td>\n",
       "      <td>12:00:00</td>\n",
       "      <td>13:00:00</td>\n",
       "      <td>Telehealth</td>\n",
       "      <td>Service Delivered</td>\n",
       "      <td>JONESMEGAN</td>\n",
       "      <td>2022-01-12 13:46:48</td>\n",
       "      <td>IFSP Meeting</td>\n",
       "      <td>First Steps, Inc (EIRA)</td>\n",
       "      <td>EIRA</td>\n",
       "      <td>Dev. Therapy Prof - Home/Community</td>\n",
       "    </tr>\n",
       "    <tr>\n",
       "      <th>5</th>\n",
       "      <td>458230</td>\n",
       "      <td>2022-01-21</td>\n",
       "      <td>15:30:00</td>\n",
       "      <td>16:30:00</td>\n",
       "      <td>Telehealth</td>\n",
       "      <td>Service Delivered</td>\n",
       "      <td>BROWNSTEPHANIE</td>\n",
       "      <td>2022-01-26 21:04:15</td>\n",
       "      <td>IFSP Meeting</td>\n",
       "      <td>Sunshine Early Intervention - Knox Cty ARC</td>\n",
       "      <td>EIRA</td>\n",
       "      <td>Dev. Therapy Prof - Home/Community</td>\n",
       "    </tr>\n",
       "    <tr>\n",
       "      <th>6</th>\n",
       "      <td>458850</td>\n",
       "      <td>2022-02-15</td>\n",
       "      <td>14:00:00</td>\n",
       "      <td>14:30:00</td>\n",
       "      <td>Telehealth</td>\n",
       "      <td>Service Delivered</td>\n",
       "      <td>BUCKCYNTHIA</td>\n",
       "      <td>2022-02-15 18:07:38</td>\n",
       "      <td>Co-Visit</td>\n",
       "      <td>Physical Therapy Services, PA (EIRA)</td>\n",
       "      <td>EIRA</td>\n",
       "      <td>Dev. Therapy Prof - Home/Community</td>\n",
       "    </tr>\n",
       "    <tr>\n",
       "      <th>7</th>\n",
       "      <td>458851</td>\n",
       "      <td>2022-02-15</td>\n",
       "      <td>14:15:00</td>\n",
       "      <td>14:45:00</td>\n",
       "      <td>Telehealth</td>\n",
       "      <td>Service Delivered</td>\n",
       "      <td>BUCKCYNTHIA</td>\n",
       "      <td>2022-02-15 18:08:54</td>\n",
       "      <td>Co-Visit</td>\n",
       "      <td>Physical Therapy Services, PA (EIRA)</td>\n",
       "      <td>EIRA</td>\n",
       "      <td>Dev. Therapy Prof - Home/Community</td>\n",
       "    </tr>\n",
       "    <tr>\n",
       "      <th>...</th>\n",
       "      <td>...</td>\n",
       "      <td>...</td>\n",
       "      <td>...</td>\n",
       "      <td>...</td>\n",
       "      <td>...</td>\n",
       "      <td>...</td>\n",
       "      <td>...</td>\n",
       "      <td>...</td>\n",
       "      <td>...</td>\n",
       "      <td>...</td>\n",
       "      <td>...</td>\n",
       "      <td>...</td>\n",
       "    </tr>\n",
       "    <tr>\n",
       "      <th>9526</th>\n",
       "      <td>539735</td>\n",
       "      <td>2023-01-31</td>\n",
       "      <td>10:00:00</td>\n",
       "      <td>12:00:00</td>\n",
       "      <td>Telehealth</td>\n",
       "      <td>Service Delivered</td>\n",
       "      <td>GLASSKATHERINE</td>\n",
       "      <td>2023-02-08 21:03:06</td>\n",
       "      <td>Co-Visit</td>\n",
       "      <td>LeBonheur EI &amp; Dev (LEAD) (vendor)</td>\n",
       "      <td>Independent</td>\n",
       "      <td>Evaluation - Speech Therapy</td>\n",
       "    </tr>\n",
       "    <tr>\n",
       "      <th>9532</th>\n",
       "      <td>539948</td>\n",
       "      <td>2023-01-31</td>\n",
       "      <td>12:30:00</td>\n",
       "      <td>13:30:00</td>\n",
       "      <td>Telehealth</td>\n",
       "      <td>Service Delivered</td>\n",
       "      <td>BOWESARAH</td>\n",
       "      <td>2023-02-01 16:03:54</td>\n",
       "      <td>Co-Visit</td>\n",
       "      <td>LeBonheur EI &amp; Dev (LEAD) (EIRA)</td>\n",
       "      <td>EIRA</td>\n",
       "      <td>Dev. Therapy Prof - Home/Community</td>\n",
       "    </tr>\n",
       "    <tr>\n",
       "      <th>9533</th>\n",
       "      <td>539948</td>\n",
       "      <td>2023-01-31</td>\n",
       "      <td>12:30:00</td>\n",
       "      <td>14:30:00</td>\n",
       "      <td>Telehealth</td>\n",
       "      <td>Service Delivered</td>\n",
       "      <td>LEEAMBER</td>\n",
       "      <td>2023-02-01 22:43:45</td>\n",
       "      <td>Co-Visit</td>\n",
       "      <td>LeBonheur EI &amp; Dev (LEAD) (vendor)</td>\n",
       "      <td>Independent</td>\n",
       "      <td>Evaluation - Physical Therapy</td>\n",
       "    </tr>\n",
       "    <tr>\n",
       "      <th>9536</th>\n",
       "      <td>540668</td>\n",
       "      <td>2023-01-20</td>\n",
       "      <td>09:00:00</td>\n",
       "      <td>09:30:00</td>\n",
       "      <td>Telehealth</td>\n",
       "      <td>Service Delivered</td>\n",
       "      <td>RICHARDSONMARY2</td>\n",
       "      <td>2023-01-23 16:14:37</td>\n",
       "      <td>IFSP Meeting</td>\n",
       "      <td>Expanding Horizons - ETSU</td>\n",
       "      <td>EIRA</td>\n",
       "      <td>Dev. Therapy Prof - Home/Community</td>\n",
       "    </tr>\n",
       "    <tr>\n",
       "      <th>9541</th>\n",
       "      <td>542077</td>\n",
       "      <td>2023-01-30</td>\n",
       "      <td>14:30:00</td>\n",
       "      <td>15:20:00</td>\n",
       "      <td>Telehealth</td>\n",
       "      <td>Service Delivered</td>\n",
       "      <td>FANELLASAMANTHA</td>\n",
       "      <td>2023-01-30 15:21:59</td>\n",
       "      <td>IFSP Meeting</td>\n",
       "      <td>Pediatric Language Clinic</td>\n",
       "      <td>EIRA</td>\n",
       "      <td>Dev. Therapy Prof - Home/Community</td>\n",
       "    </tr>\n",
       "  </tbody>\n",
       "</table>\n",
       "<p>3604 rows × 12 columns</p>\n",
       "</div>"
      ],
      "text/plain": [
       "      CHILD_ID SERVICE_DATE START_TIME  END_TIME SERVICE_SETTING  \\\n",
       "2       457585   2022-01-24   08:30:00  09:30:00      Telehealth   \n",
       "4       458051   2022-01-12   12:00:00  13:00:00      Telehealth   \n",
       "5       458230   2022-01-21   15:30:00  16:30:00      Telehealth   \n",
       "6       458850   2022-02-15   14:00:00  14:30:00      Telehealth   \n",
       "7       458851   2022-02-15   14:15:00  14:45:00      Telehealth   \n",
       "...        ...          ...        ...       ...             ...   \n",
       "9526    539735   2023-01-31   10:00:00  12:00:00      Telehealth   \n",
       "9532    539948   2023-01-31   12:30:00  13:30:00      Telehealth   \n",
       "9533    539948   2023-01-31   12:30:00  14:30:00      Telehealth   \n",
       "9536    540668   2023-01-20   09:00:00  09:30:00      Telehealth   \n",
       "9541    542077   2023-01-30   14:30:00  15:20:00      Telehealth   \n",
       "\n",
       "       SERVICE DELIVERY          ADD_USER            ADD_DATE  \\\n",
       "2     Service Delivered  MILLARDCATHERINE 2022-01-24 14:18:29   \n",
       "4     Service Delivered        JONESMEGAN 2022-01-12 13:46:48   \n",
       "5     Service Delivered    BROWNSTEPHANIE 2022-01-26 21:04:15   \n",
       "6     Service Delivered       BUCKCYNTHIA 2022-02-15 18:07:38   \n",
       "7     Service Delivered       BUCKCYNTHIA 2022-02-15 18:08:54   \n",
       "...                 ...               ...                 ...   \n",
       "9526  Service Delivered    GLASSKATHERINE 2023-02-08 21:03:06   \n",
       "9532  Service Delivered         BOWESARAH 2023-02-01 16:03:54   \n",
       "9533  Service Delivered          LEEAMBER 2023-02-01 22:43:45   \n",
       "9536  Service Delivered   RICHARDSONMARY2 2023-01-23 16:14:37   \n",
       "9541  Service Delivered   FANELLASAMANTHA 2023-01-30 15:21:59   \n",
       "\n",
       "     IFSP Teaming ID name                                 Agency Name  \\\n",
       "2             IEP Meeting          Siskin Children's Institute (EIRA)   \n",
       "4            IFSP Meeting                     First Steps, Inc (EIRA)   \n",
       "5            IFSP Meeting  Sunshine Early Intervention - Knox Cty ARC   \n",
       "6                Co-Visit        Physical Therapy Services, PA (EIRA)   \n",
       "7                Co-Visit        Physical Therapy Services, PA (EIRA)   \n",
       "...                   ...                                         ...   \n",
       "9526             Co-Visit          LeBonheur EI & Dev (LEAD) (vendor)   \n",
       "9532             Co-Visit            LeBonheur EI & Dev (LEAD) (EIRA)   \n",
       "9533             Co-Visit          LeBonheur EI & Dev (LEAD) (vendor)   \n",
       "9536         IFSP Meeting                   Expanding Horizons - ETSU   \n",
       "9541         IFSP Meeting                   Pediatric Language Clinic   \n",
       "\n",
       "      Agency Type                        Service Name  \n",
       "2            EIRA  Dev. Therapy Prof - Home/Community  \n",
       "4            EIRA  Dev. Therapy Prof - Home/Community  \n",
       "5            EIRA  Dev. Therapy Prof - Home/Community  \n",
       "6            EIRA  Dev. Therapy Prof - Home/Community  \n",
       "7            EIRA  Dev. Therapy Prof - Home/Community  \n",
       "...           ...                                 ...  \n",
       "9526  Independent         Evaluation - Speech Therapy  \n",
       "9532         EIRA  Dev. Therapy Prof - Home/Community  \n",
       "9533  Independent       Evaluation - Physical Therapy  \n",
       "9536         EIRA  Dev. Therapy Prof - Home/Community  \n",
       "9541         EIRA  Dev. Therapy Prof - Home/Community  \n",
       "\n",
       "[3604 rows x 12 columns]"
      ]
     },
     "execution_count": 9,
     "metadata": {},
     "output_type": "execute_result"
    }
   ],
   "source": [
    "service_pd=sheet1.loc[sheet1[\"SERVICE_SETTING\"].str.contains('Telehealth', na=False)]\n",
    "service_pd"
   ]
  },
  {
   "cell_type": "code",
   "execution_count": 10,
   "id": "93ba1865",
   "metadata": {
    "scrolled": true
   },
   "outputs": [
    {
     "data": {
      "text/html": [
       "<div>\n",
       "<style scoped>\n",
       "    .dataframe tbody tr th:only-of-type {\n",
       "        vertical-align: middle;\n",
       "    }\n",
       "\n",
       "    .dataframe tbody tr th {\n",
       "        vertical-align: top;\n",
       "    }\n",
       "\n",
       "    .dataframe thead th {\n",
       "        text-align: right;\n",
       "    }\n",
       "</style>\n",
       "<table border=\"1\" class=\"dataframe\">\n",
       "  <thead>\n",
       "    <tr style=\"text-align: right;\">\n",
       "      <th></th>\n",
       "      <th>CHILD_ID</th>\n",
       "      <th>SERVICE_DATE</th>\n",
       "      <th>START_TIME</th>\n",
       "      <th>END_TIME</th>\n",
       "      <th>SERVICE_SETTING</th>\n",
       "      <th>SERVICE DELIVERY</th>\n",
       "      <th>ADD_USER</th>\n",
       "      <th>ADD_DATE</th>\n",
       "      <th>IFSP Teaming ID name</th>\n",
       "      <th>Agency Name</th>\n",
       "      <th>Agency Type</th>\n",
       "      <th>Service Name</th>\n",
       "    </tr>\n",
       "  </thead>\n",
       "  <tbody>\n",
       "    <tr>\n",
       "      <th>6</th>\n",
       "      <td>458850</td>\n",
       "      <td>2022-02-15</td>\n",
       "      <td>14:00:00</td>\n",
       "      <td>14:30:00</td>\n",
       "      <td>Telehealth</td>\n",
       "      <td>Service Delivered</td>\n",
       "      <td>BUCKCYNTHIA</td>\n",
       "      <td>2022-02-15 18:07:38</td>\n",
       "      <td>Co-Visit</td>\n",
       "      <td>Physical Therapy Services, PA (EIRA)</td>\n",
       "      <td>EIRA</td>\n",
       "      <td>Dev. Therapy Prof - Home/Community</td>\n",
       "    </tr>\n",
       "    <tr>\n",
       "      <th>7</th>\n",
       "      <td>458851</td>\n",
       "      <td>2022-02-15</td>\n",
       "      <td>14:15:00</td>\n",
       "      <td>14:45:00</td>\n",
       "      <td>Telehealth</td>\n",
       "      <td>Service Delivered</td>\n",
       "      <td>BUCKCYNTHIA</td>\n",
       "      <td>2022-02-15 18:08:54</td>\n",
       "      <td>Co-Visit</td>\n",
       "      <td>Physical Therapy Services, PA (EIRA)</td>\n",
       "      <td>EIRA</td>\n",
       "      <td>Dev. Therapy Prof - Home/Community</td>\n",
       "    </tr>\n",
       "    <tr>\n",
       "      <th>8</th>\n",
       "      <td>459167</td>\n",
       "      <td>2022-01-26</td>\n",
       "      <td>09:30:00</td>\n",
       "      <td>10:00:00</td>\n",
       "      <td>Telehealth</td>\n",
       "      <td>Service Delivered</td>\n",
       "      <td>HINESKONSTANCE</td>\n",
       "      <td>2022-01-26 11:08:06</td>\n",
       "      <td>Co-Visit</td>\n",
       "      <td>LeBonheur EI &amp; Dev (LEAD) (EIRA)</td>\n",
       "      <td>EIRA</td>\n",
       "      <td>Physical Therapy Assistant</td>\n",
       "    </tr>\n",
       "    <tr>\n",
       "      <th>9</th>\n",
       "      <td>459167</td>\n",
       "      <td>2022-01-26</td>\n",
       "      <td>09:00:00</td>\n",
       "      <td>10:00:00</td>\n",
       "      <td>Telehealth</td>\n",
       "      <td>Service Delivered</td>\n",
       "      <td>GLASSKATHERINE</td>\n",
       "      <td>2022-02-02 11:57:55</td>\n",
       "      <td>Co-Visit</td>\n",
       "      <td>LeBonheur EI &amp; Dev (LEAD) (vendor)</td>\n",
       "      <td>Independent</td>\n",
       "      <td>Speech Therapy</td>\n",
       "    </tr>\n",
       "    <tr>\n",
       "      <th>10</th>\n",
       "      <td>459167</td>\n",
       "      <td>2022-02-09</td>\n",
       "      <td>09:00:00</td>\n",
       "      <td>10:00:00</td>\n",
       "      <td>Telehealth</td>\n",
       "      <td>Service Delivered</td>\n",
       "      <td>GLASSKATHERINE</td>\n",
       "      <td>2022-02-09 11:40:03</td>\n",
       "      <td>Co-Visit</td>\n",
       "      <td>LeBonheur EI &amp; Dev (LEAD) (vendor)</td>\n",
       "      <td>Independent</td>\n",
       "      <td>Speech Therapy</td>\n",
       "    </tr>\n",
       "    <tr>\n",
       "      <th>...</th>\n",
       "      <td>...</td>\n",
       "      <td>...</td>\n",
       "      <td>...</td>\n",
       "      <td>...</td>\n",
       "      <td>...</td>\n",
       "      <td>...</td>\n",
       "      <td>...</td>\n",
       "      <td>...</td>\n",
       "      <td>...</td>\n",
       "      <td>...</td>\n",
       "      <td>...</td>\n",
       "      <td>...</td>\n",
       "    </tr>\n",
       "    <tr>\n",
       "      <th>9486</th>\n",
       "      <td>536294</td>\n",
       "      <td>2022-12-20</td>\n",
       "      <td>12:30:00</td>\n",
       "      <td>13:00:00</td>\n",
       "      <td>Telehealth</td>\n",
       "      <td>Service Delivered</td>\n",
       "      <td>CADEAMANDA</td>\n",
       "      <td>2022-12-20 19:02:12</td>\n",
       "      <td>Co-Visit</td>\n",
       "      <td>Sunshine Early Intervention - Knox Cty ARC</td>\n",
       "      <td>EIRA</td>\n",
       "      <td>Dev. Therapy Prof - Home/Community</td>\n",
       "    </tr>\n",
       "    <tr>\n",
       "      <th>9525</th>\n",
       "      <td>539735</td>\n",
       "      <td>2023-01-31</td>\n",
       "      <td>10:00:00</td>\n",
       "      <td>12:00:00</td>\n",
       "      <td>Telehealth</td>\n",
       "      <td>Service Delivered</td>\n",
       "      <td>SEARSBRITTANY</td>\n",
       "      <td>2023-02-01 10:33:53</td>\n",
       "      <td>Co-Visit</td>\n",
       "      <td>LeBonheur EI &amp; Dev (LEAD) (vendor)</td>\n",
       "      <td>Independent</td>\n",
       "      <td>Evaluation - Occupational Therapy</td>\n",
       "    </tr>\n",
       "    <tr>\n",
       "      <th>9526</th>\n",
       "      <td>539735</td>\n",
       "      <td>2023-01-31</td>\n",
       "      <td>10:00:00</td>\n",
       "      <td>12:00:00</td>\n",
       "      <td>Telehealth</td>\n",
       "      <td>Service Delivered</td>\n",
       "      <td>GLASSKATHERINE</td>\n",
       "      <td>2023-02-08 21:03:06</td>\n",
       "      <td>Co-Visit</td>\n",
       "      <td>LeBonheur EI &amp; Dev (LEAD) (vendor)</td>\n",
       "      <td>Independent</td>\n",
       "      <td>Evaluation - Speech Therapy</td>\n",
       "    </tr>\n",
       "    <tr>\n",
       "      <th>9532</th>\n",
       "      <td>539948</td>\n",
       "      <td>2023-01-31</td>\n",
       "      <td>12:30:00</td>\n",
       "      <td>13:30:00</td>\n",
       "      <td>Telehealth</td>\n",
       "      <td>Service Delivered</td>\n",
       "      <td>BOWESARAH</td>\n",
       "      <td>2023-02-01 16:03:54</td>\n",
       "      <td>Co-Visit</td>\n",
       "      <td>LeBonheur EI &amp; Dev (LEAD) (EIRA)</td>\n",
       "      <td>EIRA</td>\n",
       "      <td>Dev. Therapy Prof - Home/Community</td>\n",
       "    </tr>\n",
       "    <tr>\n",
       "      <th>9533</th>\n",
       "      <td>539948</td>\n",
       "      <td>2023-01-31</td>\n",
       "      <td>12:30:00</td>\n",
       "      <td>14:30:00</td>\n",
       "      <td>Telehealth</td>\n",
       "      <td>Service Delivered</td>\n",
       "      <td>LEEAMBER</td>\n",
       "      <td>2023-02-01 22:43:45</td>\n",
       "      <td>Co-Visit</td>\n",
       "      <td>LeBonheur EI &amp; Dev (LEAD) (vendor)</td>\n",
       "      <td>Independent</td>\n",
       "      <td>Evaluation - Physical Therapy</td>\n",
       "    </tr>\n",
       "  </tbody>\n",
       "</table>\n",
       "<p>775 rows × 12 columns</p>\n",
       "</div>"
      ],
      "text/plain": [
       "      CHILD_ID SERVICE_DATE START_TIME  END_TIME SERVICE_SETTING  \\\n",
       "6       458850   2022-02-15   14:00:00  14:30:00      Telehealth   \n",
       "7       458851   2022-02-15   14:15:00  14:45:00      Telehealth   \n",
       "8       459167   2022-01-26   09:30:00  10:00:00      Telehealth   \n",
       "9       459167   2022-01-26   09:00:00  10:00:00      Telehealth   \n",
       "10      459167   2022-02-09   09:00:00  10:00:00      Telehealth   \n",
       "...        ...          ...        ...       ...             ...   \n",
       "9486    536294   2022-12-20   12:30:00  13:00:00      Telehealth   \n",
       "9525    539735   2023-01-31   10:00:00  12:00:00      Telehealth   \n",
       "9526    539735   2023-01-31   10:00:00  12:00:00      Telehealth   \n",
       "9532    539948   2023-01-31   12:30:00  13:30:00      Telehealth   \n",
       "9533    539948   2023-01-31   12:30:00  14:30:00      Telehealth   \n",
       "\n",
       "       SERVICE DELIVERY        ADD_USER            ADD_DATE  \\\n",
       "6     Service Delivered     BUCKCYNTHIA 2022-02-15 18:07:38   \n",
       "7     Service Delivered     BUCKCYNTHIA 2022-02-15 18:08:54   \n",
       "8     Service Delivered  HINESKONSTANCE 2022-01-26 11:08:06   \n",
       "9     Service Delivered  GLASSKATHERINE 2022-02-02 11:57:55   \n",
       "10    Service Delivered  GLASSKATHERINE 2022-02-09 11:40:03   \n",
       "...                 ...             ...                 ...   \n",
       "9486  Service Delivered      CADEAMANDA 2022-12-20 19:02:12   \n",
       "9525  Service Delivered   SEARSBRITTANY 2023-02-01 10:33:53   \n",
       "9526  Service Delivered  GLASSKATHERINE 2023-02-08 21:03:06   \n",
       "9532  Service Delivered       BOWESARAH 2023-02-01 16:03:54   \n",
       "9533  Service Delivered        LEEAMBER 2023-02-01 22:43:45   \n",
       "\n",
       "     IFSP Teaming ID name                                 Agency Name  \\\n",
       "6                Co-Visit        Physical Therapy Services, PA (EIRA)   \n",
       "7                Co-Visit        Physical Therapy Services, PA (EIRA)   \n",
       "8                Co-Visit            LeBonheur EI & Dev (LEAD) (EIRA)   \n",
       "9                Co-Visit          LeBonheur EI & Dev (LEAD) (vendor)   \n",
       "10               Co-Visit          LeBonheur EI & Dev (LEAD) (vendor)   \n",
       "...                   ...                                         ...   \n",
       "9486             Co-Visit  Sunshine Early Intervention - Knox Cty ARC   \n",
       "9525             Co-Visit          LeBonheur EI & Dev (LEAD) (vendor)   \n",
       "9526             Co-Visit          LeBonheur EI & Dev (LEAD) (vendor)   \n",
       "9532             Co-Visit            LeBonheur EI & Dev (LEAD) (EIRA)   \n",
       "9533             Co-Visit          LeBonheur EI & Dev (LEAD) (vendor)   \n",
       "\n",
       "      Agency Type                        Service Name  \n",
       "6            EIRA  Dev. Therapy Prof - Home/Community  \n",
       "7            EIRA  Dev. Therapy Prof - Home/Community  \n",
       "8            EIRA          Physical Therapy Assistant  \n",
       "9     Independent                      Speech Therapy  \n",
       "10    Independent                      Speech Therapy  \n",
       "...           ...                                 ...  \n",
       "9486         EIRA  Dev. Therapy Prof - Home/Community  \n",
       "9525  Independent   Evaluation - Occupational Therapy  \n",
       "9526  Independent         Evaluation - Speech Therapy  \n",
       "9532         EIRA  Dev. Therapy Prof - Home/Community  \n",
       "9533  Independent       Evaluation - Physical Therapy  \n",
       "\n",
       "[775 rows x 12 columns]"
      ]
     },
     "execution_count": 10,
     "metadata": {},
     "output_type": "execute_result"
    }
   ],
   "source": [
    "service_pd1 = sheet1.loc[sheet1[\"SERVICE_SETTING\"].str.contains('Telehealth', na=False) & sheet1[\"IFSP Teaming ID name\"].str.contains('Co-Visit', na=False)]\n",
    "service_pd1"
   ]
  },
  {
   "cell_type": "code",
   "execution_count": 11,
   "id": "46a0b466",
   "metadata": {
    "scrolled": true
   },
   "outputs": [
    {
     "data": {
      "image/png": "[encoded data removed]",
      "text/plain": [
       "<Figure size 640x480 with 1 Axes>"
      ]
     },
     "metadata": {},
     "output_type": "display_data"
    }
   ],
   "source": [
    "import matplotlib.pyplot as plt\n",
    "service_pd1 = sheet1.loc[sheet1[\"SERVICE_SETTING\"].str.contains('Telehealth', na=False) & sheet1[\"IFSP Teaming ID name\"].str.contains('Co-Visit', na=False)]\n",
    "\n",
    "\n",
    "plt.bar(service_pd1[\"SERVICE_SETTING\"], service_pd1[\"IFSP Teaming ID name\"])\n",
    "plt.xlabel(\"Telehealth Co-Visits\")\n",
    "plt.ylabel(\"IFSP ID\")\n",
    "plt.title(\"Telehealth Co-Visits by IFSP ID\")\n",
    "plt.show()\n"
   ]
  },
  {
   "cell_type": "code",
   "execution_count": 12,
   "id": "0fe81815",
   "metadata": {
    "scrolled": true
   },
   "outputs": [
    {
     "data": {
      "text/html": [
       "<div>\n",
       "<style scoped>\n",
       "    .dataframe tbody tr th:only-of-type {\n",
       "        vertical-align: middle;\n",
       "    }\n",
       "\n",
       "    .dataframe tbody tr th {\n",
       "        vertical-align: top;\n",
       "    }\n",
       "\n",
       "    .dataframe thead th {\n",
       "        text-align: right;\n",
       "    }\n",
       "</style>\n",
       "<table border=\"1\" class=\"dataframe\">\n",
       "  <thead>\n",
       "    <tr style=\"text-align: right;\">\n",
       "      <th></th>\n",
       "      <th>CHILD_ID</th>\n",
       "      <th>SERVICE_DATE</th>\n",
       "      <th>START_TIME</th>\n",
       "      <th>END_TIME</th>\n",
       "      <th>SERVICE_SETTING</th>\n",
       "      <th>SERVICE DELIVERY</th>\n",
       "      <th>ADD_USER</th>\n",
       "      <th>ADD_DATE</th>\n",
       "      <th>IFSP Teaming ID name</th>\n",
       "      <th>Agency Name</th>\n",
       "      <th>Agency Type</th>\n",
       "      <th>Service Name</th>\n",
       "    </tr>\n",
       "  </thead>\n",
       "  <tbody>\n",
       "    <tr>\n",
       "      <th>2</th>\n",
       "      <td>457585</td>\n",
       "      <td>2022-01-24</td>\n",
       "      <td>08:30:00</td>\n",
       "      <td>09:30:00</td>\n",
       "      <td>Telehealth</td>\n",
       "      <td>Service Delivered</td>\n",
       "      <td>MILLARDCATHERINE</td>\n",
       "      <td>2022-01-24 14:18:29</td>\n",
       "      <td>IEP Meeting</td>\n",
       "      <td>Siskin Children's Institute (EIRA)</td>\n",
       "      <td>EIRA</td>\n",
       "      <td>Dev. Therapy Prof - Home/Community</td>\n",
       "    </tr>\n",
       "    <tr>\n",
       "      <th>4</th>\n",
       "      <td>458051</td>\n",
       "      <td>2022-01-12</td>\n",
       "      <td>12:00:00</td>\n",
       "      <td>13:00:00</td>\n",
       "      <td>Telehealth</td>\n",
       "      <td>Service Delivered</td>\n",
       "      <td>JONESMEGAN</td>\n",
       "      <td>2022-01-12 13:46:48</td>\n",
       "      <td>IFSP Meeting</td>\n",
       "      <td>First Steps, Inc (EIRA)</td>\n",
       "      <td>EIRA</td>\n",
       "      <td>Dev. Therapy Prof - Home/Community</td>\n",
       "    </tr>\n",
       "    <tr>\n",
       "      <th>5</th>\n",
       "      <td>458230</td>\n",
       "      <td>2022-01-21</td>\n",
       "      <td>15:30:00</td>\n",
       "      <td>16:30:00</td>\n",
       "      <td>Telehealth</td>\n",
       "      <td>Service Delivered</td>\n",
       "      <td>BROWNSTEPHANIE</td>\n",
       "      <td>2022-01-26 21:04:15</td>\n",
       "      <td>IFSP Meeting</td>\n",
       "      <td>Sunshine Early Intervention - Knox Cty ARC</td>\n",
       "      <td>EIRA</td>\n",
       "      <td>Dev. Therapy Prof - Home/Community</td>\n",
       "    </tr>\n",
       "    <tr>\n",
       "      <th>6</th>\n",
       "      <td>458850</td>\n",
       "      <td>2022-02-15</td>\n",
       "      <td>14:00:00</td>\n",
       "      <td>14:30:00</td>\n",
       "      <td>Telehealth</td>\n",
       "      <td>Service Delivered</td>\n",
       "      <td>BUCKCYNTHIA</td>\n",
       "      <td>2022-02-15 18:07:38</td>\n",
       "      <td>Co-Visit</td>\n",
       "      <td>Physical Therapy Services, PA (EIRA)</td>\n",
       "      <td>EIRA</td>\n",
       "      <td>Dev. Therapy Prof - Home/Community</td>\n",
       "    </tr>\n",
       "    <tr>\n",
       "      <th>7</th>\n",
       "      <td>458851</td>\n",
       "      <td>2022-02-15</td>\n",
       "      <td>14:15:00</td>\n",
       "      <td>14:45:00</td>\n",
       "      <td>Telehealth</td>\n",
       "      <td>Service Delivered</td>\n",
       "      <td>BUCKCYNTHIA</td>\n",
       "      <td>2022-02-15 18:08:54</td>\n",
       "      <td>Co-Visit</td>\n",
       "      <td>Physical Therapy Services, PA (EIRA)</td>\n",
       "      <td>EIRA</td>\n",
       "      <td>Dev. Therapy Prof - Home/Community</td>\n",
       "    </tr>\n",
       "    <tr>\n",
       "      <th>...</th>\n",
       "      <td>...</td>\n",
       "      <td>...</td>\n",
       "      <td>...</td>\n",
       "      <td>...</td>\n",
       "      <td>...</td>\n",
       "      <td>...</td>\n",
       "      <td>...</td>\n",
       "      <td>...</td>\n",
       "      <td>...</td>\n",
       "      <td>...</td>\n",
       "      <td>...</td>\n",
       "      <td>...</td>\n",
       "    </tr>\n",
       "    <tr>\n",
       "      <th>9526</th>\n",
       "      <td>539735</td>\n",
       "      <td>2023-01-31</td>\n",
       "      <td>10:00:00</td>\n",
       "      <td>12:00:00</td>\n",
       "      <td>Telehealth</td>\n",
       "      <td>Service Delivered</td>\n",
       "      <td>GLASSKATHERINE</td>\n",
       "      <td>2023-02-08 21:03:06</td>\n",
       "      <td>Co-Visit</td>\n",
       "      <td>LeBonheur EI &amp; Dev (LEAD) (vendor)</td>\n",
       "      <td>Independent</td>\n",
       "      <td>Evaluation - Speech Therapy</td>\n",
       "    </tr>\n",
       "    <tr>\n",
       "      <th>9532</th>\n",
       "      <td>539948</td>\n",
       "      <td>2023-01-31</td>\n",
       "      <td>12:30:00</td>\n",
       "      <td>13:30:00</td>\n",
       "      <td>Telehealth</td>\n",
       "      <td>Service Delivered</td>\n",
       "      <td>BOWESARAH</td>\n",
       "      <td>2023-02-01 16:03:54</td>\n",
       "      <td>Co-Visit</td>\n",
       "      <td>LeBonheur EI &amp; Dev (LEAD) (EIRA)</td>\n",
       "      <td>EIRA</td>\n",
       "      <td>Dev. Therapy Prof - Home/Community</td>\n",
       "    </tr>\n",
       "    <tr>\n",
       "      <th>9533</th>\n",
       "      <td>539948</td>\n",
       "      <td>2023-01-31</td>\n",
       "      <td>12:30:00</td>\n",
       "      <td>14:30:00</td>\n",
       "      <td>Telehealth</td>\n",
       "      <td>Service Delivered</td>\n",
       "      <td>LEEAMBER</td>\n",
       "      <td>2023-02-01 22:43:45</td>\n",
       "      <td>Co-Visit</td>\n",
       "      <td>LeBonheur EI &amp; Dev (LEAD) (vendor)</td>\n",
       "      <td>Independent</td>\n",
       "      <td>Evaluation - Physical Therapy</td>\n",
       "    </tr>\n",
       "    <tr>\n",
       "      <th>9536</th>\n",
       "      <td>540668</td>\n",
       "      <td>2023-01-20</td>\n",
       "      <td>09:00:00</td>\n",
       "      <td>09:30:00</td>\n",
       "      <td>Telehealth</td>\n",
       "      <td>Service Delivered</td>\n",
       "      <td>RICHARDSONMARY2</td>\n",
       "      <td>2023-01-23 16:14:37</td>\n",
       "      <td>IFSP Meeting</td>\n",
       "      <td>Expanding Horizons - ETSU</td>\n",
       "      <td>EIRA</td>\n",
       "      <td>Dev. Therapy Prof - Home/Community</td>\n",
       "    </tr>\n",
       "    <tr>\n",
       "      <th>9541</th>\n",
       "      <td>542077</td>\n",
       "      <td>2023-01-30</td>\n",
       "      <td>14:30:00</td>\n",
       "      <td>15:20:00</td>\n",
       "      <td>Telehealth</td>\n",
       "      <td>Service Delivered</td>\n",
       "      <td>FANELLASAMANTHA</td>\n",
       "      <td>2023-01-30 15:21:59</td>\n",
       "      <td>IFSP Meeting</td>\n",
       "      <td>Pediatric Language Clinic</td>\n",
       "      <td>EIRA</td>\n",
       "      <td>Dev. Therapy Prof - Home/Community</td>\n",
       "    </tr>\n",
       "  </tbody>\n",
       "</table>\n",
       "<p>3604 rows × 12 columns</p>\n",
       "</div>"
      ],
      "text/plain": [
       "      CHILD_ID SERVICE_DATE START_TIME  END_TIME SERVICE_SETTING  \\\n",
       "2       457585   2022-01-24   08:30:00  09:30:00      Telehealth   \n",
       "4       458051   2022-01-12   12:00:00  13:00:00      Telehealth   \n",
       "5       458230   2022-01-21   15:30:00  16:30:00      Telehealth   \n",
       "6       458850   2022-02-15   14:00:00  14:30:00      Telehealth   \n",
       "7       458851   2022-02-15   14:15:00  14:45:00      Telehealth   \n",
       "...        ...          ...        ...       ...             ...   \n",
       "9526    539735   2023-01-31   10:00:00  12:00:00      Telehealth   \n",
       "9532    539948   2023-01-31   12:30:00  13:30:00      Telehealth   \n",
       "9533    539948   2023-01-31   12:30:00  14:30:00      Telehealth   \n",
       "9536    540668   2023-01-20   09:00:00  09:30:00      Telehealth   \n",
       "9541    542077   2023-01-30   14:30:00  15:20:00      Telehealth   \n",
       "\n",
       "       SERVICE DELIVERY          ADD_USER            ADD_DATE  \\\n",
       "2     Service Delivered  MILLARDCATHERINE 2022-01-24 14:18:29   \n",
       "4     Service Delivered        JONESMEGAN 2022-01-12 13:46:48   \n",
       "5     Service Delivered    BROWNSTEPHANIE 2022-01-26 21:04:15   \n",
       "6     Service Delivered       BUCKCYNTHIA 2022-02-15 18:07:38   \n",
       "7     Service Delivered       BUCKCYNTHIA 2022-02-15 18:08:54   \n",
       "...                 ...               ...                 ...   \n",
       "9526  Service Delivered    GLASSKATHERINE 2023-02-08 21:03:06   \n",
       "9532  Service Delivered         BOWESARAH 2023-02-01 16:03:54   \n",
       "9533  Service Delivered          LEEAMBER 2023-02-01 22:43:45   \n",
       "9536  Service Delivered   RICHARDSONMARY2 2023-01-23 16:14:37   \n",
       "9541  Service Delivered   FANELLASAMANTHA 2023-01-30 15:21:59   \n",
       "\n",
       "     IFSP Teaming ID name                                 Agency Name  \\\n",
       "2             IEP Meeting          Siskin Children's Institute (EIRA)   \n",
       "4            IFSP Meeting                     First Steps, Inc (EIRA)   \n",
       "5            IFSP Meeting  Sunshine Early Intervention - Knox Cty ARC   \n",
       "6                Co-Visit        Physical Therapy Services, PA (EIRA)   \n",
       "7                Co-Visit        Physical Therapy Services, PA (EIRA)   \n",
       "...                   ...                                         ...   \n",
       "9526             Co-Visit          LeBonheur EI & Dev (LEAD) (vendor)   \n",
       "9532             Co-Visit            LeBonheur EI & Dev (LEAD) (EIRA)   \n",
       "9533             Co-Visit          LeBonheur EI & Dev (LEAD) (vendor)   \n",
       "9536         IFSP Meeting                   Expanding Horizons - ETSU   \n",
       "9541         IFSP Meeting                   Pediatric Language Clinic   \n",
       "\n",
       "      Agency Type                        Service Name  \n",
       "2            EIRA  Dev. Therapy Prof - Home/Community  \n",
       "4            EIRA  Dev. Therapy Prof - Home/Community  \n",
       "5            EIRA  Dev. Therapy Prof - Home/Community  \n",
       "6            EIRA  Dev. Therapy Prof - Home/Community  \n",
       "7            EIRA  Dev. Therapy Prof - Home/Community  \n",
       "...           ...                                 ...  \n",
       "9526  Independent         Evaluation - Speech Therapy  \n",
       "9532         EIRA  Dev. Therapy Prof - Home/Community  \n",
       "9533  Independent       Evaluation - Physical Therapy  \n",
       "9536         EIRA  Dev. Therapy Prof - Home/Community  \n",
       "9541         EIRA  Dev. Therapy Prof - Home/Community  \n",
       "\n",
       "[3604 rows x 12 columns]"
      ]
     },
     "execution_count": 12,
     "metadata": {},
     "output_type": "execute_result"
    }
   ],
   "source": [
    "service_pd3 = sheet1.loc[sheet1[\"SERVICE_SETTING\"].str.contains('Telehealth', na=False)]\n",
    "service_pd3"
   ]
  },
  {
   "cell_type": "code",
   "execution_count": 13,
   "id": "3338181f",
   "metadata": {
    "scrolled": true
   },
   "outputs": [
    {
     "data": {
      "text/plain": [
       "<bound method Series.count of 2        IEP Meeting\n",
       "4       IFSP Meeting\n",
       "5       IFSP Meeting\n",
       "6           Co-Visit\n",
       "7           Co-Visit\n",
       "            ...     \n",
       "9526        Co-Visit\n",
       "9532        Co-Visit\n",
       "9533        Co-Visit\n",
       "9536    IFSP Meeting\n",
       "9541    IFSP Meeting\n",
       "Name: IFSP Teaming ID name, Length: 3604, dtype: object>"
      ]
     },
     "execution_count": 13,
     "metadata": {},
     "output_type": "execute_result"
    }
   ],
   "source": [
    "ifsp_count=service_pd3['IFSP Teaming ID name'].count\n",
    "ifsp_count"
   ]
  },
  {
   "cell_type": "code",
   "execution_count": 14,
   "id": "80fe811b",
   "metadata": {
    "scrolled": true
   },
   "outputs": [
    {
     "data": {
      "image/png": "[encoded data removed]",
      "text/plain": [
       "<Figure size 640x480 with 1 Axes>"
      ]
     },
     "metadata": {},
     "output_type": "display_data"
    }
   ],
   "source": [
    "service_counts = service_pd3['SERVICE_SETTING'].value_counts()\n",
    "services = service_counts.index.tolist()\n",
    "\n",
    "co_visit_counts = service_pd3.groupby('SERVICE_SETTING')['IFSP Teaming ID name'].count().tolist()\n",
    "\n",
    "plt.bar(services, co_visit_counts)\n",
    "plt.xlabel(\"Telehealth Co-Visits\")\n",
    "plt.ylabel(\"Count\")\n",
    "plt.title(\"Counts of Telehealth Co-Visits\")\n",
    "plt.show()"
   ]
  },
  {
   "cell_type": "code",
   "execution_count": 15,
   "id": "93f1b714",
   "metadata": {
    "scrolled": true
   },
   "outputs": [
    {
     "data": {
      "image/png": "[encoded data removed]",
      "text/plain": [
       "<Figure size 640x480 with 1 Axes>"
      ]
     },
     "metadata": {},
     "output_type": "display_data"
    }
   ],
   "source": [
    "service_pd3 = sheet1.loc[sheet1[\"SERVICE_SETTING\"].str.contains('Telehealth', na=False) & sheet1[\"IFSP Teaming ID name\"]]\n",
    "\n",
    "plt.bar(service_pd3['IFSP Teaming ID name'],service_pd3[\"SERVICE_SETTING\"])\n",
    "plt.xlabel('IFSP Teaming ID name')\n",
    "plt.ylabel(\"Service Setting\")\n",
    "plt.title(\"Telehealth by IFSP Teaming ID Name\")\n",
    "plt.show()"
   ]
  },
  {
   "cell_type": "code",
   "execution_count": 16,
   "id": "5d6f832b",
   "metadata": {
    "scrolled": true
   },
   "outputs": [
    {
     "data": {
      "text/plain": [
       "<Axes: xlabel='IFSP Teaming ID name', ylabel='SERVICE_SETTING'>"
      ]
     },
     "execution_count": 16,
     "metadata": {},
     "output_type": "execute_result"
    },
    {
     "data": {
      "image/png": "[encoded data removed]",
      "text/plain": [
       "<Figure size 640x480 with 1 Axes>"
      ]
     },
     "metadata": {},
     "output_type": "display_data"
    }
   ],
   "source": [
    "sns.lineplot(x=service_pd3['IFSP Teaming ID name'], y=service_pd3['SERVICE_SETTING'], hue=service_pd3.SERVICE_SETTING , data=service_pd3)"
   ]
  },
  {
   "cell_type": "code",
   "execution_count": 17,
   "id": "f419de83",
   "metadata": {
    "scrolled": true
   },
   "outputs": [
    {
     "name": "stdout",
     "output_type": "stream",
     "text": [
      "      CHILD_ID SERVICE_DATE START_TIME  END_TIME SERVICE_SETTING  \\\n",
      "2       457585   2022-01-24   08:30:00  09:30:00      Telehealth   \n",
      "4       458051   2022-01-12   12:00:00  13:00:00      Telehealth   \n",
      "5       458230   2022-01-21   15:30:00  16:30:00      Telehealth   \n",
      "6       458850   2022-02-15   14:00:00  14:30:00      Telehealth   \n",
      "7       458851   2022-02-15   14:15:00  14:45:00      Telehealth   \n",
      "...        ...          ...        ...       ...             ...   \n",
      "9526    539735   2023-01-31   10:00:00  12:00:00      Telehealth   \n",
      "9532    539948   2023-01-31   12:30:00  13:30:00      Telehealth   \n",
      "9533    539948   2023-01-31   12:30:00  14:30:00      Telehealth   \n",
      "9536    540668   2023-01-20   09:00:00  09:30:00      Telehealth   \n",
      "9541    542077   2023-01-30   14:30:00  15:20:00      Telehealth   \n",
      "\n",
      "       SERVICE DELIVERY          ADD_USER            ADD_DATE  \\\n",
      "2     Service Delivered  MILLARDCATHERINE 2022-01-24 14:18:29   \n",
      "4     Service Delivered        JONESMEGAN 2022-01-12 13:46:48   \n",
      "5     Service Delivered    BROWNSTEPHANIE 2022-01-26 21:04:15   \n",
      "6     Service Delivered       BUCKCYNTHIA 2022-02-15 18:07:38   \n",
      "7     Service Delivered       BUCKCYNTHIA 2022-02-15 18:08:54   \n",
      "...                 ...               ...                 ...   \n",
      "9526  Service Delivered    GLASSKATHERINE 2023-02-08 21:03:06   \n",
      "9532  Service Delivered         BOWESARAH 2023-02-01 16:03:54   \n",
      "9533  Service Delivered          LEEAMBER 2023-02-01 22:43:45   \n",
      "9536  Service Delivered   RICHARDSONMARY2 2023-01-23 16:14:37   \n",
      "9541  Service Delivered   FANELLASAMANTHA 2023-01-30 15:21:59   \n",
      "\n",
      "     IFSP Teaming ID name                                 Agency Name  \\\n",
      "2             IEP Meeting          Siskin Children's Institute (EIRA)   \n",
      "4            IFSP Meeting                     First Steps, Inc (EIRA)   \n",
      "5            IFSP Meeting  Sunshine Early Intervention - Knox Cty ARC   \n",
      "6                Co-Visit        Physical Therapy Services, PA (EIRA)   \n",
      "7                Co-Visit        Physical Therapy Services, PA (EIRA)   \n",
      "...                   ...                                         ...   \n",
      "9526             Co-Visit          LeBonheur EI & Dev (LEAD) (vendor)   \n",
      "9532             Co-Visit            LeBonheur EI & Dev (LEAD) (EIRA)   \n",
      "9533             Co-Visit          LeBonheur EI & Dev (LEAD) (vendor)   \n",
      "9536         IFSP Meeting                   Expanding Horizons - ETSU   \n",
      "9541         IFSP Meeting                   Pediatric Language Clinic   \n",
      "\n",
      "      Agency Type                        Service Name  \n",
      "2            EIRA  Dev. Therapy Prof - Home/Community  \n",
      "4            EIRA  Dev. Therapy Prof - Home/Community  \n",
      "5            EIRA  Dev. Therapy Prof - Home/Community  \n",
      "6            EIRA  Dev. Therapy Prof - Home/Community  \n",
      "7            EIRA  Dev. Therapy Prof - Home/Community  \n",
      "...           ...                                 ...  \n",
      "9526  Independent         Evaluation - Speech Therapy  \n",
      "9532         EIRA  Dev. Therapy Prof - Home/Community  \n",
      "9533  Independent       Evaluation - Physical Therapy  \n",
      "9536         EIRA  Dev. Therapy Prof - Home/Community  \n",
      "9541         EIRA  Dev. Therapy Prof - Home/Community  \n",
      "\n",
      "[3604 rows x 12 columns]\n"
     ]
    }
   ],
   "source": [
    "print(service_pd3)"
   ]
  },
  {
   "cell_type": "code",
   "execution_count": 18,
   "id": "9eaaa92e",
   "metadata": {
    "scrolled": true
   },
   "outputs": [
    {
     "data": {
      "text/plain": [
       "2       Telehealth\n",
       "4       Telehealth\n",
       "5       Telehealth\n",
       "6       Telehealth\n",
       "7       Telehealth\n",
       "           ...    \n",
       "9526    Telehealth\n",
       "9532    Telehealth\n",
       "9533    Telehealth\n",
       "9536    Telehealth\n",
       "9541    Telehealth\n",
       "Name: SERVICE_SETTING, Length: 3604, dtype: object"
      ]
     },
     "execution_count": 18,
     "metadata": {},
     "output_type": "execute_result"
    }
   ],
   "source": [
    "df_tcount=service_pd3['SERVICE_SETTING']\n",
    "df_tcount\n",
    "\n"
   ]
  },
  {
   "cell_type": "code",
   "execution_count": 19,
   "id": "178b52d9",
   "metadata": {
    "scrolled": true
   },
   "outputs": [
    {
     "data": {
      "text/plain": [
       "2        IEP Meeting\n",
       "4       IFSP Meeting\n",
       "5       IFSP Meeting\n",
       "6           Co-Visit\n",
       "7           Co-Visit\n",
       "            ...     \n",
       "9526        Co-Visit\n",
       "9532        Co-Visit\n",
       "9533        Co-Visit\n",
       "9536    IFSP Meeting\n",
       "9541    IFSP Meeting\n",
       "Name: IFSP Teaming ID name, Length: 3604, dtype: object"
      ]
     },
     "execution_count": 19,
     "metadata": {},
     "output_type": "execute_result"
    }
   ],
   "source": [
    "df_ifsp=service_pd3['IFSP Teaming ID name']\n",
    "df_ifsp"
   ]
  },
  {
   "cell_type": "code",
   "execution_count": 20,
   "id": "30f3fe43",
   "metadata": {},
   "outputs": [],
   "source": [
    "import matplotlib.pyplot as plt"
   ]
  },
  {
   "cell_type": "code",
   "execution_count": 21,
   "id": "dc0bde99",
   "metadata": {
    "scrolled": true
   },
   "outputs": [
    {
     "data": {
      "text/plain": [
       "[<matplotlib.lines.Line2D at 0x229a7cad330>]"
      ]
     },
     "execution_count": 21,
     "metadata": {},
     "output_type": "execute_result"
    },
    {
     "data": {
      "image/png": "[encoded data removed]",
      "text/plain": [
       "<Figure size 640x480 with 1 Axes>"
      ]
     },
     "metadata": {},
     "output_type": "display_data"
    }
   ],
   "source": [
    "plt.plot(df_ifsp, df_tcount)\n"
   ]
  },
  {
   "cell_type": "code",
   "execution_count": 22,
   "id": "503bdf8e",
   "metadata": {
    "scrolled": true
   },
   "outputs": [
    {
     "data": {
      "image/png": "[encoded data removed]",
      "text/plain": [
       "<Figure size 640x480 with 1 Axes>"
      ]
     },
     "metadata": {},
     "output_type": "display_data"
    }
   ],
   "source": [
    "import matplotlib.pyplot as plt\n",
    "\n",
    "service_counts = service_pd3['SERVICE_SETTING'].value_counts()\n",
    "services = service_counts.index.tolist()\n",
    "\n",
    "co_visit_counts = service_pd3.groupby('SERVICE_SETTING')['IFSP Teaming ID name'].count().tolist()\n",
    "\n",
    "plt.bar(services, co_visit_counts)\n",
    "plt.xlabel(\"Telehealth Co-Visits\")\n",
    "plt.ylabel(\"Count\")\n",
    "plt.title(\"Counts of Telehealth Co-Visits\")\n",
    "plt.show()"
   ]
  },
  {
   "cell_type": "code",
   "execution_count": 23,
   "id": "bcd8fd24",
   "metadata": {},
   "outputs": [
    {
     "name": "stdout",
     "output_type": "stream",
     "text": [
      "Telehealth Count: 775\n",
      "Other Service Settings Count: 3316\n"
     ]
    }
   ],
   "source": [
    "# Filter the data for the specified IFSP Teaming ID name\n",
    "covisit_data = sheet1[sheet1['IFSP Teaming ID name'] == 'Co-Visit']\n",
    "\n",
    "# Count the number of telehealth visits\n",
    "telehealth_count = covisit_data[covisit_data['SERVICE_SETTING'] == 'Telehealth'].shape[0]\n",
    "\n",
    "# Count the number of other service settings\n",
    "other_count = covisit_data[covisit_data['SERVICE_SETTING'] != 'Telehealth'].shape[0]\n",
    "\n",
    "print(\"Telehealth Count:\", telehealth_count)\n",
    "print(\"Other Service Settings Count:\", other_count)\n",
    "#Telehealth Count: 775\n",
    "#Other Service Settings Count: 3316"
   ]
  },
  {
   "cell_type": "code",
   "execution_count": 24,
   "id": "e23b9624",
   "metadata": {},
   "outputs": [
    {
     "data": {
      "image/png": "[encoded data removed]",
      "text/plain": [
       "<Figure size 640x480 with 1 Axes>"
      ]
     },
     "metadata": {},
     "output_type": "display_data"
    }
   ],
   "source": [
    "# Define the data\n",
    "categories = ['Telehealth', 'Other Service Settings']\n",
    "counts = [telehealth_count, other_count]\n",
    "\n",
    "plt.bar(categories, counts)\n",
    "\n",
    "plt.xlabel('Service Setting')\n",
    "plt.ylabel('Count')\n",
    "plt.title('Count of Telehealth Visits vs Other Service Settings during covisits')\n",
    "\n",
    "plt.show()"
   ]
  },
  {
   "cell_type": "code",
   "execution_count": 26,
   "id": "4a84811b",
   "metadata": {},
   "outputs": [
    {
     "data": {
      "image/png": "[encoded data removed]",
      "text/plain": [
       "<Figure size 640x480 with 1 Axes>"
      ]
     },
     "metadata": {},
     "output_type": "display_data"
    }
   ],
   "source": [
    "# Filter the data for co-visits\n",
    "co_visit_data = sheet1[sheet1['IFSP Teaming ID name'] == 'Co-Visit']\n",
    "\n",
    "# Count the number of co-visits that are telehealth\n",
    "telehealth_count = co_visit_data[co_visit_data['SERVICE_SETTING'] == 'Telehealth'].shape[0]\n",
    "\n",
    "# Count the number of co-visits that are not telehealth\n",
    "other_count = co_visit_data[co_visit_data['SERVICE_SETTING'] != 'Telehealth'].shape[0]\n",
    "\n",
    "labels = ['Telehealth', 'Other']\n",
    "sizes = [telehealth_count, other_count]\n",
    "plt.pie(sizes, labels=labels, autopct='%1.1f%%', startangle=90)\n",
    "\n",
    "plt.title('Rate of Co-Visits: Telehealth vs Other')\n",
    "\n",
    "# Set aspect ratio to be equal, so the pie is circular\n",
    "plt.axis('equal')\n",
    "\n",
    "plt.show()"
   ]
  },
  {
   "cell_type": "code",
   "execution_count": 27,
   "id": "067d5578",
   "metadata": {},
   "outputs": [
    {
     "data": {
      "text/plain": [
       "IFSP Meeting    1959\n",
       "Co-Visit         380\n",
       "IEP Meeting      224\n",
       "Name: IFSP Teaming ID name, dtype: int64"
      ]
     },
     "execution_count": 27,
     "metadata": {},
     "output_type": "execute_result"
    }
   ],
   "source": [
    "telehealth_data = sheet1[(sheet1['SERVICE_SETTING'] == 'Telehealth') & (sheet1['SERVICE DELIVERY'] == 'Service Delivered')]\n",
    "unique_telehealth_data = telehealth_data.drop_duplicates(subset='CHILD_ID')\n",
    "fsp_count = unique_telehealth_data['IFSP Teaming ID name'].value_counts()\n",
    "fsp_count"
   ]
  },
  {
   "cell_type": "code",
   "execution_count": 28,
   "id": "b6afb66d",
   "metadata": {},
   "outputs": [
    {
     "data": {
      "image/png": "[encoded data removed]",
      "text/plain": [
       "<Figure size 1000x600 with 1 Axes>"
      ]
     },
     "metadata": {},
     "output_type": "display_data"
    }
   ],
   "source": [
    "colors = [\"#6E99EC\", \"#777776\",  \"#EF412A\"]\n",
    "\n",
    "# Plot the bar chart\n",
    "plt.figure(figsize=(10, 6))\n",
    "sns.barplot(x=fsp_count.index, y=fsp_count.values, palette=colors)\n",
    "\n",
    "plt.title('Count of IFSP Teaming IDs for Telehealth Services', fontsize=14)\n",
    "\n",
    "\n",
    "# Rotate x-axis labels for better readability\n",
    "plt.xticks(rotation=45, ha='right')\n",
    "\n",
    "# Add data labels to the bars\n",
    "for i, count in enumerate(fsp_count.values):\n",
    "    plt.text(i, count + 1, str(count), ha='center', va='bottom', fontsize=10)\n",
    "\n",
    "# Remove the top and right spines\n",
    "sns.despine()\n",
    "\n",
    "plt.tight_layout()\n",
    "plt.show()"
   ]
  },
  {
   "cell_type": "code",
   "execution_count": 33,
   "id": "a1a0c9f1",
   "metadata": {},
   "outputs": [
    {
     "data": {
      "image/png": "[encoded data removed]",
      "text/plain": [
       "<Figure size 1000x600 with 1 Axes>"
      ]
     },
     "metadata": {},
     "output_type": "display_data"
    }
   ],
   "source": [
    "import seaborn as sns\n",
    "import matplotlib.pyplot as plt\n",
    "\n",
    "colors = [\"#6E99EC\", \"#777776\",  \"#EF412A\"]\n",
    "\n",
    "#Create a figure with specified size\n",
    "fig, ax = plt.subplots(figsize=(10, 6))\n",
    "\n",
    "#Create barplot with specified colors\n",
    "sns.barplot(x=fsp_count.index, y=fsp_count.values, palette=colors, ax=ax)\n",
    "\n",
    "#Add title\n",
    "ax.set_title('Count of IFSP Teaming IDs for Telehealth Services', fontsize=14)\n",
    "\n",
    "#Rotate x-axis labels for better readability\n",
    "plt.xticks(rotation=45, ha='right')\n",
    "\n",
    "#Add data labels to the bars\n",
    "#for i,count in enumerate(fsp_count.values):\n",
    "#ax.text(i, count + 1, str(count), ha='center', va='bottom', fontsize=10)\n",
    "for i, count in enumerate(fsp_count.values):\n",
    "    ax.text(i, count + 1, str(count), ha='center', va='bottom', fontsize=10)\n",
    "\n",
    "#Remove the top and right spines\n",
    "sns.despine()\n",
    "\n",
    "#Ensure tight layout\n",
    "plt.tight_layout()\n",
    "\n",
    "#Display plot\n",
    "plt.show()"
   ]
  },
  {
   "cell_type": "markdown",
   "id": "27e3f6f9",
   "metadata": {},
   "source": [
    "telehealth_data = df1[(df1['SERVICE_SETTING'] == 'Telehealth') & (df1['SERVICE DELIVERY'] == 'Service Delivered')]\n",
    "unique_telehealth_data = telehealth_data.drop_duplicates(subset='CHILD_ID')\n",
    "fsp_count = unique_telehealth_data['IFSP Teaming ID name'].value_counts()\n",
    "fsp_count"
   ]
  },
  {
   "cell_type": "code",
   "execution_count": 34,
   "id": "b925e808",
   "metadata": {},
   "outputs": [
    {
     "data": {
      "text/plain": [
       "IFSP Meeting    2461\n",
       "Co-Visit         713\n",
       "IEP Meeting      357\n",
       "Name: IFSP Teaming ID name, dtype: int64"
      ]
     },
     "execution_count": 34,
     "metadata": {},
     "output_type": "execute_result"
    }
   ],
   "source": [
    "telehealth_data = sheet1[(sheet1['SERVICE_SETTING'] == 'Telehealth') & (sheet1['SERVICE DELIVERY'] == 'Service Delivered')]\n",
    "unique_telehealth_data = telehealth_data.drop_duplicates(subset=['CHILD_ID','SERVICE_DATE'])\n",
    "fsp_count = unique_telehealth_data['IFSP Teaming ID name'].value_counts()\n",
    "fsp_count"
   ]
  },
  {
   "cell_type": "code",
   "execution_count": 37,
   "id": "38578c43",
   "metadata": {},
   "outputs": [
    {
     "data": {
      "text/plain": [
       "CHILD_ID  SERVICE_DATE  START_TIME  IFSP Teaming ID name\n",
       "457136    2022-01-21    09:30:00    IEP Meeting             1\n",
       "          2022-02-15    14:00:00    Co-Visit                1\n",
       "457585    2022-01-24    08:30:00    IEP Meeting             1\n",
       "457852    2022-01-12    14:00:00    IEP Meeting             1\n",
       "458051    2022-01-12    12:00:00    IFSP Meeting            1\n",
       "                                                           ..\n",
       "541337    2023-01-10    15:00:00    Co-Visit                1\n",
       "541511    2023-01-19    13:30:00    Co-Visit                1\n",
       "541890    2023-01-19    09:00:00    Co-Visit                1\n",
       "542077    2023-01-30    14:30:00    IFSP Meeting            1\n",
       "542122    2023-01-30    13:00:00    Co-Visit                1\n",
       "Name: IFSP Teaming ID name, Length: 9167, dtype: int64"
      ]
     },
     "execution_count": 37,
     "metadata": {},
     "output_type": "execute_result"
    }
   ],
   "source": [
    "df3= sheet1.groupby(['CHILD_ID', 'SERVICE_DATE', 'START_TIME'])['IFSP Teaming ID name'].value_counts()\n",
    "df3"
   ]
  },
  {
   "cell_type": "markdown",
   "id": "f038e20b",
   "metadata": {},
   "source": [
    "import seaborn as sns\n",
    "import matplotlib.pyplot as plt\n",
    "\n",
    "colors = [\"#6E99EC\", \"#777776\",  \"#EF412A\"]\n",
    "\n",
    "#Create a figure with specified size\n",
    "fig, ax = plt.subplots(figsize=(10, 6))\n",
    "\n",
    "#Create barplot with specified colors\n",
    "sns.barplot(x=fsp_count.index, y=fsp_count.values, palette=colors, ax=ax)\n",
    "\n",
    "#Add title\n",
    "ax.set_title('Count of IFSP Teaming IDs for Telehealth Services', fontsize=14)\n",
    "\n",
    "#Rotate x-axis labels for better readability\n",
    "plt.xticks(rotation=45, ha='right')\n",
    "\n",
    "#Add data labels to the bars\n",
    "#for i,count in enumerate(fsp_count.values):\n",
    "#ax.text(i, count + 1, str(count), ha='center', va='bottom', fontsize=10)\n",
    "for i, count in enumerate(fsp_count.values):\n",
    "    ax.text(i, count + 1, str(count), ha='center', va='bottom', fontsize=10)\n",
    "\n",
    "#Remove the top and right spines\n",
    "sns.despine()\n",
    "\n",
    "#Ensure tight layout\n",
    "plt.tight_layout()\n",
    "\n",
    "#Display plot\n",
    "plt.show()"
   ]
  }
 ],
 "metadata": {
  "kernelspec": {
   "display_name": "Python 3 (ipykernel)",
   "language": "python",
   "name": "python3"
  },
  "language_info": {
   "codemirror_mode": {
    "name": "ipython",
    "version": 3
   },
   "file_extension": ".py",
   "mimetype": "text/x-python",
   "name": "python",
   "nbconvert_exporter": "python",
   "pygments_lexer": "ipython3",
   "version": "3.10.9"
  }
 },
 "nbformat": 4,
 "nbformat_minor": 5
}
